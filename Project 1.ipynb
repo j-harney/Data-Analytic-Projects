{
 "cells": [
  {
   "cell_type": "code",
   "execution_count": 1,
   "id": "0462feba",
   "metadata": {},
   "outputs": [
    {
     "name": "stdout",
     "output_type": "stream",
     "text": [
      "shape (600, 7)\n",
      "\n",
      "Column Headers\n",
      " ['Name', 'Author', 'User Rating', 'Reviews', 'Price', 'Year', 'Genre']\n",
      "\n",
      "Data Types\n",
      " Name            object\n",
      "Author          object\n",
      "User Rating    float64\n",
      "Reviews          int64\n",
      "Price            int64\n",
      "Year             int64\n",
      "Genre           object\n",
      "dtype: object\n"
     ]
    }
   ],
   "source": [
    "# 1 Loading the data and providing an overview.\n",
    "import pandas as pd\n",
    "import numpy as np\n",
    "from matplotlib import pyplot as plt\n",
    "df = pd.read_csv('AmazonBooks - Sheet1.csv')\n",
    "print(\"shape\", df.shape)\n",
    "print(\"\\nColumn Headers\\n\", df.columns.tolist())\n",
    "print(\"\\nData Types\\n\", df.dtypes)"
   ]
  },
  {
   "cell_type": "code",
   "execution_count": 2,
   "id": "65d6e377",
   "metadata": {},
   "outputs": [
    {
     "data": {
      "text/html": [
       "<div>\n",
       "<style scoped>\n",
       "    .dataframe tbody tr th:only-of-type {\n",
       "        vertical-align: middle;\n",
       "    }\n",
       "\n",
       "    .dataframe tbody tr th {\n",
       "        vertical-align: top;\n",
       "    }\n",
       "\n",
       "    .dataframe thead th {\n",
       "        text-align: right;\n",
       "    }\n",
       "</style>\n",
       "<table border=\"1\" class=\"dataframe\">\n",
       "  <thead>\n",
       "    <tr style=\"text-align: right;\">\n",
       "      <th></th>\n",
       "      <th>Name</th>\n",
       "      <th>Author</th>\n",
       "      <th>User Rating</th>\n",
       "      <th>Reviews</th>\n",
       "      <th>Price</th>\n",
       "      <th>Year</th>\n",
       "      <th>Genre</th>\n",
       "    </tr>\n",
       "  </thead>\n",
       "  <tbody>\n",
       "    <tr>\n",
       "      <th>0</th>\n",
       "      <td>10-Day Green Smoothie Cleanse</td>\n",
       "      <td>JJ Smith</td>\n",
       "      <td>4.7</td>\n",
       "      <td>17350</td>\n",
       "      <td>8</td>\n",
       "      <td>2016</td>\n",
       "      <td>Non Fiction</td>\n",
       "    </tr>\n",
       "    <tr>\n",
       "      <th>1</th>\n",
       "      <td>11/22/63: A Novel</td>\n",
       "      <td>Stephen King</td>\n",
       "      <td>4.6</td>\n",
       "      <td>2052</td>\n",
       "      <td>22</td>\n",
       "      <td>2011</td>\n",
       "      <td>Fiction</td>\n",
       "    </tr>\n",
       "    <tr>\n",
       "      <th>2</th>\n",
       "      <td>12 Rules for Life: An Antidote to Chaos</td>\n",
       "      <td>Jordan B. Peterson</td>\n",
       "      <td>4.7</td>\n",
       "      <td>18979</td>\n",
       "      <td>15</td>\n",
       "      <td>2018</td>\n",
       "      <td>Non Fiction</td>\n",
       "    </tr>\n",
       "    <tr>\n",
       "      <th>3</th>\n",
       "      <td>1984 (Signet Classics)</td>\n",
       "      <td>George Orwell</td>\n",
       "      <td>4.7</td>\n",
       "      <td>21424</td>\n",
       "      <td>6</td>\n",
       "      <td>2017</td>\n",
       "      <td>Fiction</td>\n",
       "    </tr>\n",
       "    <tr>\n",
       "      <th>4</th>\n",
       "      <td>5,000 Awesome Facts (About Everything!) (Natio...</td>\n",
       "      <td>National Geographic Kids</td>\n",
       "      <td>4.8</td>\n",
       "      <td>7665</td>\n",
       "      <td>12</td>\n",
       "      <td>2019</td>\n",
       "      <td>Non Fiction</td>\n",
       "    </tr>\n",
       "    <tr>\n",
       "      <th>5</th>\n",
       "      <td>A Dance with Dragons (A Song of Ice and Fire)</td>\n",
       "      <td>George R. R. Martin</td>\n",
       "      <td>4.4</td>\n",
       "      <td>12643</td>\n",
       "      <td>11</td>\n",
       "      <td>2011</td>\n",
       "      <td>Fiction</td>\n",
       "    </tr>\n",
       "    <tr>\n",
       "      <th>6</th>\n",
       "      <td>A Game of Thrones / A Clash of Kings / A Storm...</td>\n",
       "      <td>George R. R. Martin</td>\n",
       "      <td>4.7</td>\n",
       "      <td>19735</td>\n",
       "      <td>30</td>\n",
       "      <td>2014</td>\n",
       "      <td>Fiction</td>\n",
       "    </tr>\n",
       "    <tr>\n",
       "      <th>7</th>\n",
       "      <td>A Gentleman in Moscow: A Novel</td>\n",
       "      <td>Amor Towles</td>\n",
       "      <td>4.7</td>\n",
       "      <td>19699</td>\n",
       "      <td>15</td>\n",
       "      <td>2017</td>\n",
       "      <td>Fiction</td>\n",
       "    </tr>\n",
       "    <tr>\n",
       "      <th>8</th>\n",
       "      <td>A Higher Loyalty: Truth, Lies, and Leadership</td>\n",
       "      <td>James Comey</td>\n",
       "      <td>4.7</td>\n",
       "      <td>5983</td>\n",
       "      <td>3</td>\n",
       "      <td>2018</td>\n",
       "      <td>Non Fiction</td>\n",
       "    </tr>\n",
       "    <tr>\n",
       "      <th>9</th>\n",
       "      <td>A Man Called Ove: A Novel</td>\n",
       "      <td>Fredrik Backman</td>\n",
       "      <td>4.6</td>\n",
       "      <td>23848</td>\n",
       "      <td>8</td>\n",
       "      <td>2016</td>\n",
       "      <td>Fiction</td>\n",
       "    </tr>\n",
       "  </tbody>\n",
       "</table>\n",
       "</div>"
      ],
      "text/plain": [
       "                                                Name  \\\n",
       "0                      10-Day Green Smoothie Cleanse   \n",
       "1                                  11/22/63: A Novel   \n",
       "2            12 Rules for Life: An Antidote to Chaos   \n",
       "3                             1984 (Signet Classics)   \n",
       "4  5,000 Awesome Facts (About Everything!) (Natio...   \n",
       "5      A Dance with Dragons (A Song of Ice and Fire)   \n",
       "6  A Game of Thrones / A Clash of Kings / A Storm...   \n",
       "7                     A Gentleman in Moscow: A Novel   \n",
       "8      A Higher Loyalty: Truth, Lies, and Leadership   \n",
       "9                          A Man Called Ove: A Novel   \n",
       "\n",
       "                     Author  User Rating  Reviews  Price  Year        Genre  \n",
       "0                  JJ Smith          4.7    17350      8  2016  Non Fiction  \n",
       "1              Stephen King          4.6     2052     22  2011      Fiction  \n",
       "2        Jordan B. Peterson          4.7    18979     15  2018  Non Fiction  \n",
       "3             George Orwell          4.7    21424      6  2017      Fiction  \n",
       "4  National Geographic Kids          4.8     7665     12  2019  Non Fiction  \n",
       "5       George R. R. Martin          4.4    12643     11  2011      Fiction  \n",
       "6       George R. R. Martin          4.7    19735     30  2014      Fiction  \n",
       "7               Amor Towles          4.7    19699     15  2017      Fiction  \n",
       "8               James Comey          4.7     5983      3  2018  Non Fiction  \n",
       "9           Fredrik Backman          4.6    23848      8  2016      Fiction  "
      ]
     },
     "execution_count": 2,
     "metadata": {},
     "output_type": "execute_result"
    }
   ],
   "source": [
    "# 1 First ten rows.\n",
    "df.head(10)"
   ]
  },
  {
   "cell_type": "code",
   "execution_count": 3,
   "id": "39c10632",
   "metadata": {},
   "outputs": [
    {
     "data": {
      "text/html": [
       "<div>\n",
       "<style scoped>\n",
       "    .dataframe tbody tr th:only-of-type {\n",
       "        vertical-align: middle;\n",
       "    }\n",
       "\n",
       "    .dataframe tbody tr th {\n",
       "        vertical-align: top;\n",
       "    }\n",
       "\n",
       "    .dataframe thead th {\n",
       "        text-align: right;\n",
       "    }\n",
       "</style>\n",
       "<table border=\"1\" class=\"dataframe\">\n",
       "  <thead>\n",
       "    <tr style=\"text-align: right;\">\n",
       "      <th></th>\n",
       "      <th>Name</th>\n",
       "      <th>Author</th>\n",
       "      <th>User Rating</th>\n",
       "      <th>Reviews</th>\n",
       "      <th>Price</th>\n",
       "      <th>Year</th>\n",
       "      <th>Genre</th>\n",
       "    </tr>\n",
       "  </thead>\n",
       "  <tbody>\n",
       "    <tr>\n",
       "      <th>590</th>\n",
       "      <td>What Should Danny Do?</td>\n",
       "      <td>Adir Levy</td>\n",
       "      <td>4.8</td>\n",
       "      <td>14705</td>\n",
       "      <td>13</td>\n",
       "      <td>2020</td>\n",
       "      <td>Fiction</td>\n",
       "    </tr>\n",
       "    <tr>\n",
       "      <th>591</th>\n",
       "      <td>Wacky Waving Inflatable Tube Guy</td>\n",
       "      <td>Conor Riordan</td>\n",
       "      <td>4.0</td>\n",
       "      <td>25510</td>\n",
       "      <td>7</td>\n",
       "      <td>2020</td>\n",
       "      <td>Fiction</td>\n",
       "    </tr>\n",
       "    <tr>\n",
       "      <th>592</th>\n",
       "      <td>The Silent Patient</td>\n",
       "      <td>Alex Michaelides</td>\n",
       "      <td>4.5</td>\n",
       "      <td>61060</td>\n",
       "      <td>15</td>\n",
       "      <td>2020</td>\n",
       "      <td>Fiction</td>\n",
       "    </tr>\n",
       "    <tr>\n",
       "      <th>593</th>\n",
       "      <td>The Big Book of Silly Jokes for Kids</td>\n",
       "      <td>Carole P. Roman</td>\n",
       "      <td>4.7</td>\n",
       "      <td>11668</td>\n",
       "      <td>9</td>\n",
       "      <td>2020</td>\n",
       "      <td>Fiction</td>\n",
       "    </tr>\n",
       "    <tr>\n",
       "      <th>594</th>\n",
       "      <td>Chicka Chicka Boom Boom</td>\n",
       "      <td>Bill Martin Jr.</td>\n",
       "      <td>4.9</td>\n",
       "      <td>20705</td>\n",
       "      <td>4</td>\n",
       "      <td>2020</td>\n",
       "      <td>Fiction</td>\n",
       "    </tr>\n",
       "    <tr>\n",
       "      <th>595</th>\n",
       "      <td>Live Free Or Die: America (and the World) on t...</td>\n",
       "      <td>Sean Hannity</td>\n",
       "      <td>4.8</td>\n",
       "      <td>20153</td>\n",
       "      <td>15</td>\n",
       "      <td>2020</td>\n",
       "      <td>Non Fiction</td>\n",
       "    </tr>\n",
       "    <tr>\n",
       "      <th>596</th>\n",
       "      <td>Burn After Writing</td>\n",
       "      <td>Sharon Jones</td>\n",
       "      <td>4.6</td>\n",
       "      <td>26423</td>\n",
       "      <td>8</td>\n",
       "      <td>2020</td>\n",
       "      <td>Non Fiction</td>\n",
       "    </tr>\n",
       "    <tr>\n",
       "      <th>597</th>\n",
       "      <td>Get Out of Your Head: Stopping the Spiral of T...</td>\n",
       "      <td>Jennie Allen</td>\n",
       "      <td>4.7</td>\n",
       "      <td>12879</td>\n",
       "      <td>14</td>\n",
       "      <td>2020</td>\n",
       "      <td>Non Fiction</td>\n",
       "    </tr>\n",
       "    <tr>\n",
       "      <th>598</th>\n",
       "      <td>Human Body Activity Book for Kids: Hands-On Fu...</td>\n",
       "      <td>Katie Stokes</td>\n",
       "      <td>4.7</td>\n",
       "      <td>14128</td>\n",
       "      <td>5</td>\n",
       "      <td>2020</td>\n",
       "      <td>Non Fiction</td>\n",
       "    </tr>\n",
       "    <tr>\n",
       "      <th>599</th>\n",
       "      <td>Educated: A Memoir</td>\n",
       "      <td>Tara Westover</td>\n",
       "      <td>4.7</td>\n",
       "      <td>45351</td>\n",
       "      <td>11</td>\n",
       "      <td>2020</td>\n",
       "      <td>Non Fiction</td>\n",
       "    </tr>\n",
       "  </tbody>\n",
       "</table>\n",
       "</div>"
      ],
      "text/plain": [
       "                                                  Name            Author  \\\n",
       "590                              What Should Danny Do?         Adir Levy   \n",
       "591                   Wacky Waving Inflatable Tube Guy    Conor Riordan    \n",
       "592                                The Silent Patient   Alex Michaelides   \n",
       "593               The Big Book of Silly Jokes for Kids   Carole P. Roman   \n",
       "594                           Chicka Chicka Boom Boom    Bill Martin Jr.   \n",
       "595  Live Free Or Die: America (and the World) on t...      Sean Hannity   \n",
       "596                                 Burn After Writing      Sharon Jones   \n",
       "597  Get Out of Your Head: Stopping the Spiral of T...      Jennie Allen   \n",
       "598  Human Body Activity Book for Kids: Hands-On Fu...      Katie Stokes   \n",
       "599                                 Educated: A Memoir    Tara Westover    \n",
       "\n",
       "     User Rating  Reviews  Price  Year        Genre  \n",
       "590          4.8    14705     13  2020      Fiction  \n",
       "591          4.0    25510      7  2020      Fiction  \n",
       "592          4.5    61060     15  2020      Fiction  \n",
       "593          4.7    11668      9  2020      Fiction  \n",
       "594          4.9    20705      4  2020      Fiction  \n",
       "595          4.8    20153     15  2020  Non Fiction  \n",
       "596          4.6    26423      8  2020  Non Fiction  \n",
       "597          4.7    12879     14  2020  Non Fiction  \n",
       "598          4.7    14128      5  2020  Non Fiction  \n",
       "599          4.7    45351     11  2020  Non Fiction  "
      ]
     },
     "execution_count": 3,
     "metadata": {},
     "output_type": "execute_result"
    }
   ],
   "source": [
    "# Last ten rows.\n",
    "df.tail(10)"
   ]
  },
  {
   "cell_type": "markdown",
   "id": "bb088ddc",
   "metadata": {},
   "source": [
    "# # 1 Describing what the data is:\n",
    "The data above contains the top 50 bestselling novels on Amazon each year from 2009 to 2020, consisting of a total of 600 rows of bestselling books. <br> [This is a link to the dataset](https://www.kaggle.com/datasets/palanjali007/amazons-top-50-bestselling-novels-20092020?resource=download) <br> <br>\n",
    "Each column is listed as such:\n",
    "- Name of the novel\n",
    "- Author of the novel\n",
    "- Rating of novel on Amazon\n",
    "- Reviews of novel on Amazon\n",
    "- Price of novel on Amazon\n",
    "- Year novel was bestseller\n",
    "- Genre of novel (between Fiction and Non-Fiction)"
   ]
  },
  {
   "cell_type": "markdown",
   "id": "d6572b12",
   "metadata": {},
   "source": [
    "# # 1 Listing out three questions you want to investigate from this dataset.\n",
    "The three questions I want to figure out using this dataset are below:\n",
    "- Does a higher rating of a bestseller book have a correlation to the price of a bestseller book being higher?\n",
    "- Does fiction have a higher rating overall or does non-fiction?\n",
    "- Did non-fiction or fiction bestsellers become more predominant over the 12 years?"
   ]
  },
  {
   "cell_type": "code",
   "execution_count": 4,
   "id": "ce60e351",
   "metadata": {},
   "outputs": [
    {
     "data": {
      "text/html": [
       "<div>\n",
       "<style scoped>\n",
       "    .dataframe tbody tr th:only-of-type {\n",
       "        vertical-align: middle;\n",
       "    }\n",
       "\n",
       "    .dataframe tbody tr th {\n",
       "        vertical-align: top;\n",
       "    }\n",
       "\n",
       "    .dataframe thead th {\n",
       "        text-align: right;\n",
       "    }\n",
       "</style>\n",
       "<table border=\"1\" class=\"dataframe\">\n",
       "  <thead>\n",
       "    <tr style=\"text-align: right;\">\n",
       "      <th></th>\n",
       "      <th>Name</th>\n",
       "      <th>User Rating</th>\n",
       "      <th>Price</th>\n",
       "      <th>Year</th>\n",
       "      <th>Genre</th>\n",
       "    </tr>\n",
       "  </thead>\n",
       "  <tbody>\n",
       "    <tr>\n",
       "      <th>0</th>\n",
       "      <td>10-Day Green Smoothie Cleanse</td>\n",
       "      <td>4.7</td>\n",
       "      <td>8</td>\n",
       "      <td>2016</td>\n",
       "      <td>Non Fiction</td>\n",
       "    </tr>\n",
       "    <tr>\n",
       "      <th>1</th>\n",
       "      <td>11/22/63: A Novel</td>\n",
       "      <td>4.6</td>\n",
       "      <td>22</td>\n",
       "      <td>2011</td>\n",
       "      <td>Fiction</td>\n",
       "    </tr>\n",
       "    <tr>\n",
       "      <th>2</th>\n",
       "      <td>12 Rules for Life: An Antidote to Chaos</td>\n",
       "      <td>4.7</td>\n",
       "      <td>15</td>\n",
       "      <td>2018</td>\n",
       "      <td>Non Fiction</td>\n",
       "    </tr>\n",
       "    <tr>\n",
       "      <th>3</th>\n",
       "      <td>1984 (Signet Classics)</td>\n",
       "      <td>4.7</td>\n",
       "      <td>6</td>\n",
       "      <td>2017</td>\n",
       "      <td>Fiction</td>\n",
       "    </tr>\n",
       "    <tr>\n",
       "      <th>4</th>\n",
       "      <td>5,000 Awesome Facts (About Everything!) (Natio...</td>\n",
       "      <td>4.8</td>\n",
       "      <td>12</td>\n",
       "      <td>2019</td>\n",
       "      <td>Non Fiction</td>\n",
       "    </tr>\n",
       "    <tr>\n",
       "      <th>...</th>\n",
       "      <td>...</td>\n",
       "      <td>...</td>\n",
       "      <td>...</td>\n",
       "      <td>...</td>\n",
       "      <td>...</td>\n",
       "    </tr>\n",
       "    <tr>\n",
       "      <th>595</th>\n",
       "      <td>Live Free Or Die: America (and the World) on t...</td>\n",
       "      <td>4.8</td>\n",
       "      <td>15</td>\n",
       "      <td>2020</td>\n",
       "      <td>Non Fiction</td>\n",
       "    </tr>\n",
       "    <tr>\n",
       "      <th>596</th>\n",
       "      <td>Burn After Writing</td>\n",
       "      <td>4.6</td>\n",
       "      <td>8</td>\n",
       "      <td>2020</td>\n",
       "      <td>Non Fiction</td>\n",
       "    </tr>\n",
       "    <tr>\n",
       "      <th>597</th>\n",
       "      <td>Get Out of Your Head: Stopping the Spiral of T...</td>\n",
       "      <td>4.7</td>\n",
       "      <td>14</td>\n",
       "      <td>2020</td>\n",
       "      <td>Non Fiction</td>\n",
       "    </tr>\n",
       "    <tr>\n",
       "      <th>598</th>\n",
       "      <td>Human Body Activity Book for Kids: Hands-On Fu...</td>\n",
       "      <td>4.7</td>\n",
       "      <td>5</td>\n",
       "      <td>2020</td>\n",
       "      <td>Non Fiction</td>\n",
       "    </tr>\n",
       "    <tr>\n",
       "      <th>599</th>\n",
       "      <td>Educated: A Memoir</td>\n",
       "      <td>4.7</td>\n",
       "      <td>11</td>\n",
       "      <td>2020</td>\n",
       "      <td>Non Fiction</td>\n",
       "    </tr>\n",
       "  </tbody>\n",
       "</table>\n",
       "<p>600 rows × 5 columns</p>\n",
       "</div>"
      ],
      "text/plain": [
       "                                                  Name  User Rating  Price  \\\n",
       "0                        10-Day Green Smoothie Cleanse          4.7      8   \n",
       "1                                    11/22/63: A Novel          4.6     22   \n",
       "2              12 Rules for Life: An Antidote to Chaos          4.7     15   \n",
       "3                               1984 (Signet Classics)          4.7      6   \n",
       "4    5,000 Awesome Facts (About Everything!) (Natio...          4.8     12   \n",
       "..                                                 ...          ...    ...   \n",
       "595  Live Free Or Die: America (and the World) on t...          4.8     15   \n",
       "596                                 Burn After Writing          4.6      8   \n",
       "597  Get Out of Your Head: Stopping the Spiral of T...          4.7     14   \n",
       "598  Human Body Activity Book for Kids: Hands-On Fu...          4.7      5   \n",
       "599                                 Educated: A Memoir          4.7     11   \n",
       "\n",
       "     Year        Genre  \n",
       "0    2016  Non Fiction  \n",
       "1    2011      Fiction  \n",
       "2    2018  Non Fiction  \n",
       "3    2017      Fiction  \n",
       "4    2019  Non Fiction  \n",
       "..    ...          ...  \n",
       "595  2020  Non Fiction  \n",
       "596  2020  Non Fiction  \n",
       "597  2020  Non Fiction  \n",
       "598  2020  Non Fiction  \n",
       "599  2020  Non Fiction  \n",
       "\n",
       "[600 rows x 5 columns]"
      ]
     },
     "execution_count": 4,
     "metadata": {},
     "output_type": "execute_result"
    }
   ],
   "source": [
    "# 2a Data Cleaning (removing features)\n",
    "df = df.loc[:,['Name','User Rating','Price','Year','Genre']]\n",
    "df"
   ]
  },
  {
   "cell_type": "code",
   "execution_count": 5,
   "id": "ba1ea265",
   "metadata": {},
   "outputs": [
    {
     "data": {
      "text/plain": [
       "Name           0\n",
       "User Rating    0\n",
       "Price          0\n",
       "Year           0\n",
       "Genre          0\n",
       "dtype: int64"
      ]
     },
     "execution_count": 5,
     "metadata": {},
     "output_type": "execute_result"
    }
   ],
   "source": [
    "# 2b Data Cleaning (address any missing values)\n",
    "df.isnull().sum()"
   ]
  },
  {
   "cell_type": "code",
   "execution_count": 6,
   "id": "7e907842",
   "metadata": {},
   "outputs": [
    {
     "name": "stdout",
     "output_type": "stream",
     "text": [
      "Shape before deduplication: 600\n",
      "Shape after deduplication: 390\n",
      "Amount of duplicates deleted: 210\n"
     ]
    }
   ],
   "source": [
    "# 2c Remove duplicates (if necessary) (This is setting up for question 1 and 2 of my three questions)\n",
    "print(\"Shape before deduplication:\",df.shape[0])\n",
    "df_delduplicatesrating = df.drop_duplicates(subset='Name',keep='first')\n",
    "print(\"Shape after deduplication:\",df_delduplicatesrating.shape[0])\n",
    "print(\"Amount of duplicates deleted:\",df.shape[0]-df_delduplicatesrating.shape[0])"
   ]
  },
  {
   "cell_type": "code",
   "execution_count": 7,
   "id": "a1cc5bc9",
   "metadata": {},
   "outputs": [
    {
     "name": "stdout",
     "output_type": "stream",
     "text": [
      "Name object\n",
      "User Rating float64\n",
      "Price int64\n",
      "Year int64\n",
      "Genre object\n"
     ]
    }
   ],
   "source": [
    "# 2d Checking datatype of each column, fixing datatype if incorrect.\n",
    "df_checkdatatype = df\n",
    "for column in df_checkdatatype:\n",
    "    print(column, df_checkdatatype[column].dtype)"
   ]
  },
  {
   "cell_type": "code",
   "execution_count": 8,
   "id": "919a6ccb",
   "metadata": {},
   "outputs": [
    {
     "name": "stdout",
     "output_type": "stream",
     "text": [
      "0                         10-Day Green Smoothie Cleanse\n",
      "1                                     11/22/63: A Novel\n",
      "2               12 Rules for Life: An Antidote to Chaos\n",
      "3                                1984 (Signet Classics)\n",
      "4     5,000 Awesome Facts (About Everything!) (Natio...\n",
      "5         A Dance with Dragons (A Song of Ice and Fire)\n",
      "6     A Game of Thrones / A Clash of Kings / A Storm...\n",
      "7                        A Gentleman in Moscow: A Novel\n",
      "8         A Higher Loyalty: Truth, Lies, and Leadership\n",
      "9                             A Man Called Ove: A Novel\n",
      "10                            A Man Called Ove: A Novel\n",
      "11    A Patriot's History of the United States: From...\n",
      "12                              A Stolen Life: A Memoir\n",
      "13                     A Wrinkle in Time (Time Quintet)\n",
      "14    Act Like a Lady, Think Like a Man: What Men Re...\n",
      "15    Adult Coloring Book Designs: Stress Relief Col...\n",
      "16    Adult Coloring Book: Stress Relieving Animal D...\n",
      "17       Adult Coloring Book: Stress Relieving Patterns\n",
      "18    Adult Coloring Books: A Coloring Book for Adul...\n",
      "19                                   Alexander Hamilton\n",
      "20                          All the Light We Cannot See\n",
      "21                          All the Light We Cannot See\n",
      "22                                            Allegiant\n",
      "23    American Sniper: The Autobiography of the Most...\n",
      "24                             And the Mountains Echoed\n",
      "25    Arguing with Idiots: How to Stop Small Minds a...\n",
      "26                   Astrophysics for People in a Hurry\n",
      "27                  Autobiography of Mark Twain, Vol. 1\n",
      "28                         Baby Touch and Feel: Animals\n",
      "29             Balance (Angie's Extreme Stress Menders)\n",
      "30    Barefoot Contessa Foolproof: Recipes You Can T...\n",
      "31    Barefoot Contessa, How Easy Is That?: Fabulous...\n",
      "32                                             Becoming\n",
      "33                                             Becoming\n",
      "34    Being Mortal: Medicine and What Matters in the...\n",
      "35                             Between the World and Me\n",
      "36                             Between the World and Me\n",
      "37                                          Born to Run\n",
      "38            Breaking Dawn (The Twilight Saga, Book 4)\n",
      "39    Broke: The Plan to Restore Our Trust, Truth an...\n",
      "40             Brown Bear, Brown Bear, What Do You See?\n",
      "41             Brown Bear, Brown Bear, What Do You See?\n",
      "42           Cabin Fever (Diary of a Wimpy Kid, Book 6)\n",
      "43    Calm the F*ck Down: An Irreverent Adult Colori...\n",
      "44    Can't Hurt Me: Master Your Mind and Defy the Odds\n",
      "45                  Capital in the Twenty First Century\n",
      "46                     Catching Fire (The Hunger Games)\n",
      "47                     Catching Fire (The Hunger Games)\n",
      "48                     Catching Fire (The Hunger Games)\n",
      "49    Cravings: Recipes for All the Food You Want to...\n",
      "Name: Name, dtype: object\n",
      "\n",
      " Publication Manual of the American Psychological Association, 6th Edition                                 10\n",
      "StrengthsFinder 2.0                                                                                        9\n",
      "Oh, the Places You'll Go!                                                                                  8\n",
      "The Very Hungry Caterpillar                                                                                8\n",
      "The 7 Habits of Highly Effective People: Powerful Lessons in Personal Change                               7\n",
      "                                                                                                          ..\n",
      "Joyland (Hard Case Crime)                                                                                  1\n",
      "JOURNEY TO THE ICE P                                                                                       1\n",
      "It's Not Supposed to Be This Way: Finding Unexpected Strength When Disappointments Leave You Shattered     1\n",
      "Inheritance: Book IV (Inheritance Cycle)                                                                   1\n",
      "Human Body Activity Book for Kids: Hands-On Fun for Grades K-3                                             1\n",
      "Name: Name, Length: 390, dtype: int64\n",
      "\n",
      " The name variable is consistent, just some books stayed on the bestselling list for multiple years\n"
     ]
    }
   ],
   "source": [
    "# 2e Checking the 'Name' variable for any inconsistent inputs.\n",
    "df_changecolumns = df_checkdatatype\n",
    "print(df_changecolumns['Name'].head(50))\n",
    "print(\"\\n\",df_changecolumns['Name'].value_counts(dropna=False))\n",
    "print(\"\\n\",\"The name variable is consistent, just some books stayed on the bestselling list for multiple years\")"
   ]
  },
  {
   "cell_type": "code",
   "execution_count": 9,
   "id": "9586c7d7",
   "metadata": {},
   "outputs": [
    {
     "name": "stdout",
     "output_type": "stream",
     "text": [
      "0     Non Fiction\n",
      "1         Fiction\n",
      "2     Non Fiction\n",
      "3         Fiction\n",
      "4     Non Fiction\n",
      "5         Fiction\n",
      "6         Fiction\n",
      "7         Fiction\n",
      "8     Non Fiction\n",
      "9         Fiction\n",
      "10        Fiction\n",
      "11    Non Fiction\n",
      "12    Non Fiction\n",
      "13        Fiction\n",
      "14    Non Fiction\n",
      "15    Non Fiction\n",
      "16    Non Fiction\n",
      "17    Non Fiction\n",
      "18    Non Fiction\n",
      "19    Non Fiction\n",
      "20        Fiction\n",
      "21        Fiction\n",
      "22        Fiction\n",
      "23    Non Fiction\n",
      "24        Fiction\n",
      "25    Non Fiction\n",
      "26    Non Fiction\n",
      "27    Non Fiction\n",
      "28    Non Fiction\n",
      "29    Non Fiction\n",
      "30    Non Fiction\n",
      "31    Non Fiction\n",
      "32    Non Fiction\n",
      "33    Non Fiction\n",
      "34    Non Fiction\n",
      "35    Non Fiction\n",
      "36    Non Fiction\n",
      "37    Non Fiction\n",
      "38        Fiction\n",
      "39    Non Fiction\n",
      "40        Fiction\n",
      "41        Fiction\n",
      "42        Fiction\n",
      "43    Non Fiction\n",
      "44    Non Fiction\n",
      "45    Non Fiction\n",
      "46        Fiction\n",
      "47        Fiction\n",
      "48        Fiction\n",
      "49    Non Fiction\n",
      "Name: Genre, dtype: object\n",
      "\n",
      " Non Fiction    337\n",
      "Fiction        263\n",
      "Name: Genre, dtype: int64\n",
      "\n",
      " The genre variable is consistent.\n"
     ]
    }
   ],
   "source": [
    "# 2e Checking the 'Genre' variable for any inconsistent inputs.\n",
    "print(df_changecolumns['Genre'].head(50))\n",
    "print(\"\\n\",df_changecolumns['Genre'].value_counts(dropna=False))\n",
    "print(\"\\n\",\"The genre variable is consistent.\")"
   ]
  },
  {
   "cell_type": "code",
   "execution_count": 10,
   "id": "73d8ab11",
   "metadata": {},
   "outputs": [
    {
     "data": {
      "text/plain": [
       "<AxesSubplot:>"
      ]
     },
     "execution_count": 10,
     "metadata": {},
     "output_type": "execute_result"
    },
    {
     "data": {
      "image/png": "[encoded data removed]",
      "text/plain": [
       "<Figure size 432x288 with 1 Axes>"
      ]
     },
     "metadata": {
      "needs_background": "light"
     },
     "output_type": "display_data"
    }
   ],
   "source": [
    "# 2f Checking column 'User Rating' for any outliers (no deleted duplicates)\n",
    "df_nooutlier = df_changecolumns\n",
    "df_nooutlier.boxplot(column=['User Rating'])"
   ]
  },
  {
   "cell_type": "code",
   "execution_count": 11,
   "id": "1463e034",
   "metadata": {},
   "outputs": [
    {
     "data": {
      "text/plain": [
       "<AxesSubplot:>"
      ]
     },
     "execution_count": 11,
     "metadata": {},
     "output_type": "execute_result"
    },
    {
     "data": {
      "image/png": "[encoded data removed]",
      "text/plain": [
       "<Figure size 432x288 with 1 Axes>"
      ]
     },
     "metadata": {
      "needs_background": "light"
     },
     "output_type": "display_data"
    }
   ],
   "source": [
    "# 2f Removing outliers from User Rating (Below 4.0) (no deleted duplicates)\n",
    "df_nooutlier = df_changecolumns.loc[df_changecolumns['User Rating'] >= 4.0]  \n",
    "df_nooutlier.boxplot(column=['User Rating'])"
   ]
  },
  {
   "cell_type": "code",
   "execution_count": 12,
   "id": "beadc4a7",
   "metadata": {},
   "outputs": [
    {
     "data": {
      "text/plain": [
       "<AxesSubplot:>"
      ]
     },
     "execution_count": 12,
     "metadata": {},
     "output_type": "execute_result"
    },
    {
     "data": {
      "image/png": "[encoded data removed]",
      "text/plain": [
       "<Figure size 432x288 with 1 Axes>"
      ]
     },
     "metadata": {
      "needs_background": "light"
     },
     "output_type": "display_data"
    }
   ],
   "source": [
    "# 2f Checking column 'User Rating' for any outliers (deleted duplicates)\n",
    "df_nooutliernorduplicates = df_delduplicatesrating\n",
    "df_nooutliernorduplicates.boxplot(column=['User Rating'])"
   ]
  },
  {
   "cell_type": "code",
   "execution_count": 13,
   "id": "4063063e",
   "metadata": {},
   "outputs": [
    {
     "data": {
      "text/plain": [
       "<AxesSubplot:>"
      ]
     },
     "execution_count": 13,
     "metadata": {},
     "output_type": "execute_result"
    },
    {
     "data": {
      "image/png": "[encoded data removed]",
      "text/plain": [
       "<Figure size 432x288 with 1 Axes>"
      ]
     },
     "metadata": {
      "needs_background": "light"
     },
     "output_type": "display_data"
    }
   ],
   "source": [
    "# 2f Removing outliers from User Rating (Below 4.0) (deleted duplicates)\n",
    "df_nooutliernorduplicates = df_nooutliernorduplicates.loc[df_nooutliernorduplicates['User Rating'] >= 4.0]  \n",
    "df_nooutliernorduplicates.boxplot(column=['User Rating'])"
   ]
  },
  {
   "cell_type": "code",
   "execution_count": 14,
   "id": "5d5d2fd1",
   "metadata": {},
   "outputs": [
    {
     "data": {
      "text/plain": [
       "<AxesSubplot:>"
      ]
     },
     "execution_count": 14,
     "metadata": {},
     "output_type": "execute_result"
    },
    {
     "data": {
      "image/png": "[encoded data removed]",
      "text/plain": [
       "<Figure size 432x288 with 1 Axes>"
      ]
     },
     "metadata": {
      "needs_background": "light"
     },
     "output_type": "display_data"
    }
   ],
   "source": [
    "# 2f Checking column 'Year' for any outliers\n",
    "df_nooutlier.boxplot(column=['Year'])"
   ]
  },
  {
   "cell_type": "code",
   "execution_count": 15,
   "id": "57e85135",
   "metadata": {},
   "outputs": [
    {
     "data": {
      "text/plain": [
       "<AxesSubplot:>"
      ]
     },
     "execution_count": 15,
     "metadata": {},
     "output_type": "execute_result"
    },
    {
     "data": {
      "image/png": "[encoded data removed]",
      "text/plain": [
       "<Figure size 432x288 with 1 Axes>"
      ]
     },
     "metadata": {
      "needs_background": "light"
     },
     "output_type": "display_data"
    }
   ],
   "source": [
    "# 2f Checking column 'Price' for any outliers (no deleted duplicates)\n",
    "df_nooutlier.boxplot(column=['Price'])"
   ]
  },
  {
   "cell_type": "code",
   "execution_count": 16,
   "id": "bd5802b0",
   "metadata": {},
   "outputs": [
    {
     "data": {
      "text/plain": [
       "<AxesSubplot:>"
      ]
     },
     "execution_count": 16,
     "metadata": {},
     "output_type": "execute_result"
    },
    {
     "data": {
      "image/png": "[encoded data removed]",
      "text/plain": [
       "<Figure size 432x288 with 1 Axes>"
      ]
     },
     "metadata": {
      "needs_background": "light"
     },
     "output_type": "display_data"
    }
   ],
   "source": [
    "# 2f Removing outliers from Price (Anything above 60) (no deleted duplicates)\n",
    "df_nooutlier = df_nooutlier[df_nooutlier['Price'] <= 60]  \n",
    "df_nooutlier.boxplot(column=['Price'])"
   ]
  },
  {
   "cell_type": "code",
   "execution_count": 17,
   "id": "8bb55628",
   "metadata": {},
   "outputs": [
    {
     "data": {
      "text/plain": [
       "<AxesSubplot:>"
      ]
     },
     "execution_count": 17,
     "metadata": {},
     "output_type": "execute_result"
    },
    {
     "data": {
      "image/png": "[encoded data removed]",
      "text/plain": [
       "<Figure size 432x288 with 1 Axes>"
      ]
     },
     "metadata": {
      "needs_background": "light"
     },
     "output_type": "display_data"
    }
   ],
   "source": [
    "# 2f Checking column 'Price' for any outliers (deleted duplicates)\n",
    "df_nooutliernorduplicates.boxplot(column=['Price'])"
   ]
  },
  {
   "cell_type": "code",
   "execution_count": 18,
   "id": "a08b2726",
   "metadata": {},
   "outputs": [
    {
     "data": {
      "text/plain": [
       "<AxesSubplot:>"
      ]
     },
     "execution_count": 18,
     "metadata": {},
     "output_type": "execute_result"
    },
    {
     "data": {
      "image/png": "[encoded data removed]",
      "text/plain": [
       "<Figure size 432x288 with 1 Axes>"
      ]
     },
     "metadata": {
      "needs_background": "light"
     },
     "output_type": "display_data"
    }
   ],
   "source": [
    "# 2f Removing outliers from Price (Anything above 60) (no deleted duplicates)\n",
    "df_nooutliernorduplicates = df_nooutliernorduplicates[df_nooutliernorduplicates['Price'] <= 60]  \n",
    "df_nooutliernorduplicates.boxplot(column=['Price'])"
   ]
  },
  {
   "cell_type": "code",
   "execution_count": 19,
   "id": "fdf44b3f",
   "metadata": {},
   "outputs": [
    {
     "data": {
      "text/plain": [
       "<function matplotlib.pyplot.show(close=None, block=None)>"
      ]
     },
     "execution_count": 19,
     "metadata": {},
     "output_type": "execute_result"
    },
    {
     "data": {
      "image/png": "[encoded data removed]",
      "text/plain": [
       "<Figure size 432x288 with 1 Axes>"
      ]
     },
     "metadata": {
      "needs_background": "light"
     },
     "output_type": "display_data"
    }
   ],
   "source": [
    "# 3 Question A: Does a higher rating of a bestseller book have a correlation to the price of a bestseller book being higher?\n",
    "dfcomparison = df_nooutliernorduplicates.loc[:,['User Rating','Price']]\n",
    "sum = 4\n",
    "mean = 0\n",
    "dfcomparisonrating = pd.DataFrame(columns=['User Rating','Price'])\n",
    "for i in range(0,10):\n",
    "    averageprice = dfcomparison['Price'][dfcomparison['User Rating']==sum].mean()\n",
    "    dfcomparisonrating.loc[len(dfcomparisonrating.index)] = [sum, averageprice]\n",
    "    sum = round(sum + 0.1,1)\n",
    "    dfcomparisonrating = dfcomparisonrating.dropna()\n",
    "plt.plot(dfcomparisonrating.iloc[:,0],dfcomparisonrating.iloc[:,1])\n",
    "plt.scatter(dfcomparison.iloc[:, 0],dfcomparison.iloc[:, 1], s=6)\n",
    "plt.title('Pricing of Bestseller Books based on Rating')\n",
    "plt.xlabel('Ratings')\n",
    "plt.ylabel('Pricings')\n",
    "plt.yticks(np.arange(0,50,5))\n",
    "plt.xticks(np.arange(4.0,5.25,0.25))\n",
    "plt.subplots_adjust(right=1.0)\n",
    "plt.show\n"
   ]
  },
  {
   "cell_type": "code",
   "execution_count": 20,
   "id": "ca0579fd",
   "metadata": {},
   "outputs": [
    {
     "data": {
      "text/html": [
       "<div>\n",
       "<style scoped>\n",
       "    .dataframe tbody tr th:only-of-type {\n",
       "        vertical-align: middle;\n",
       "    }\n",
       "\n",
       "    .dataframe tbody tr th {\n",
       "        vertical-align: top;\n",
       "    }\n",
       "\n",
       "    .dataframe thead th {\n",
       "        text-align: right;\n",
       "    }\n",
       "</style>\n",
       "<table border=\"1\" class=\"dataframe\">\n",
       "  <thead>\n",
       "    <tr style=\"text-align: right;\">\n",
       "      <th></th>\n",
       "      <th>User Rating</th>\n",
       "      <th>Price</th>\n",
       "    </tr>\n",
       "  </thead>\n",
       "  <tbody>\n",
       "    <tr>\n",
       "      <th>0</th>\n",
       "      <td>4.0</td>\n",
       "      <td>11.400000</td>\n",
       "    </tr>\n",
       "    <tr>\n",
       "      <th>1</th>\n",
       "      <td>4.1</td>\n",
       "      <td>12.600000</td>\n",
       "    </tr>\n",
       "    <tr>\n",
       "      <th>2</th>\n",
       "      <td>4.2</td>\n",
       "      <td>11.625000</td>\n",
       "    </tr>\n",
       "    <tr>\n",
       "      <th>3</th>\n",
       "      <td>4.3</td>\n",
       "      <td>13.913043</td>\n",
       "    </tr>\n",
       "    <tr>\n",
       "      <th>4</th>\n",
       "      <td>4.4</td>\n",
       "      <td>11.962963</td>\n",
       "    </tr>\n",
       "    <tr>\n",
       "      <th>5</th>\n",
       "      <td>4.5</td>\n",
       "      <td>13.820513</td>\n",
       "    </tr>\n",
       "    <tr>\n",
       "      <th>6</th>\n",
       "      <td>4.6</td>\n",
       "      <td>12.027778</td>\n",
       "    </tr>\n",
       "    <tr>\n",
       "      <th>7</th>\n",
       "      <td>4.7</td>\n",
       "      <td>13.000000</td>\n",
       "    </tr>\n",
       "    <tr>\n",
       "      <th>8</th>\n",
       "      <td>4.8</td>\n",
       "      <td>11.927835</td>\n",
       "    </tr>\n",
       "    <tr>\n",
       "      <th>9</th>\n",
       "      <td>4.9</td>\n",
       "      <td>12.457143</td>\n",
       "    </tr>\n",
       "  </tbody>\n",
       "</table>\n",
       "</div>"
      ],
      "text/plain": [
       "   User Rating      Price\n",
       "0          4.0  11.400000\n",
       "1          4.1  12.600000\n",
       "2          4.2  11.625000\n",
       "3          4.3  13.913043\n",
       "4          4.4  11.962963\n",
       "5          4.5  13.820513\n",
       "6          4.6  12.027778\n",
       "7          4.7  13.000000\n",
       "8          4.8  11.927835\n",
       "9          4.9  12.457143"
      ]
     },
     "execution_count": 20,
     "metadata": {},
     "output_type": "execute_result"
    }
   ],
   "source": [
    "# 3 Question A: Showing dataframe for easier describing of data and graph.\n",
    "dfcomparisonrating"
   ]
  },
  {
   "cell_type": "markdown",
   "id": "32fc49ff",
   "metadata": {},
   "source": [
    "# Question A Graph Interpretation -\n",
    "The scatterplot shows the price of bestselling books (from 2009 to 2020) compared to the bestselling books ratings. A line graph is also on the same plot, indicating the average price for each iteration of User Rating. Overall, there is little to none increase in price over an increase in rating, and there is also little to none decrease in price over a decrease in rating. An example being that the average price only fluctuates from ```$11.40``` minimum to ```$13.91``` maximum, a ```$2.51```difference. Furthermore, the rating at ```$13.91``` is actually a rating of 4.3, while a rating of 4.9 only has an average price of ```$12.46```. This only slight amount of difference indicates a weak, slightly positive, non-linear relationship. The rating of a bestselling book does not strongly correlate to the pricing of a bestselling book. <br> <br> To conclude, the graph shows a non-linear, weak relationship between the prices and ratings of these bestselling books, and a majority of books spread across these ratings are priced at around the same amounts, fluctuating at a minor difference."
   ]
  },
  {
   "cell_type": "code",
   "execution_count": 21,
   "id": "7589443a",
   "metadata": {},
   "outputs": [
    {
     "data": {
      "text/plain": [
       "<function matplotlib.pyplot.show(close=None, block=None)>"
      ]
     },
     "execution_count": 21,
     "metadata": {},
     "output_type": "execute_result"
    },
    {
     "data": {
      "image/png": "[encoded data removed]",
      "text/plain": [
       "<Figure size 432x288 with 1 Axes>"
      ]
     },
     "metadata": {
      "needs_background": "light"
     },
     "output_type": "display_data"
    }
   ],
   "source": [
    "# 3 Question B: Does fiction have a higher rating on average or does non-fiction? How many bestselling books are fiction, and how many are non-fiction?\n",
    "dfcomparison = df_nooutliernorduplicates.loc[:, ['Genre','User Rating']]\n",
    "df_nonfiction = dfcomparison.loc[dfcomparison['Genre']=='Non Fiction']\n",
    "df_fiction = dfcomparison.loc[dfcomparison['Genre']=='Fiction']\n",
    "plt.bar(df_fiction.iloc[:,0],df_fiction.iloc[:,1].mean())\n",
    "plt.bar(df_nonfiction.iloc[:,0],df_nonfiction.iloc[:,1].mean())\n",
    "plt.title('Mean Rating of bestseller books based on Genre')\n",
    "plt.xlabel('Genre')\n",
    "plt.ylabel('Mean Rating')\n",
    "plt.ylim(4.6,4.675)\n",
    "plt.subplots_adjust(right=1.5)\n",
    "plt.show"
   ]
  },
  {
   "cell_type": "code",
   "execution_count": 22,
   "id": "e9f0c59f",
   "metadata": {},
   "outputs": [
    {
     "data": {
      "text/plain": [
       "Text(0, 0.5, 'Amount of Books')"
      ]
     },
     "execution_count": 22,
     "metadata": {},
     "output_type": "execute_result"
    },
    {
     "data": {
      "image/png": "[encoded data removed]",
      "text/plain": [
       "<Figure size 432x288 with 1 Axes>"
      ]
     },
     "metadata": {
      "needs_background": "light"
     },
     "output_type": "display_data"
    }
   ],
   "source": [
    "plt.bar(df_fiction.iloc[:,0],df_fiction['Genre'].iloc[:].value_counts())\n",
    "plt.bar(df_nonfiction.iloc[:,0],df_nonfiction['Genre'].iloc[:].value_counts())\n",
    "plt.title('Amount of bestseller books based on Genre')\n",
    "plt.xlabel('Genre')\n",
    "plt.ylabel('Amount of Books')"
   ]
  },
  {
   "cell_type": "markdown",
   "id": "8a7657b1",
   "metadata": {},
   "source": [
    "# Question B Graph Interpretations -\n",
    "The first bar plot shows the genres (Fiction and Non Fiction) of bestselling books (from 2009 to 2020) and their respective mean ratings (excluding outliers which are below 4.0 rating). The second bar plot shows the count of how many unique books there are in both genres. Overall, for the first bar plot, there is a higher rating on average for Fiction versus Non-Fiction. Fiction has a mean rating of 4.651, and Non Fiction has a mean rating of 4.617, making a difference of 0.034. For the second bar plot, there are more Non Fiction bestselling books than Fiction bestselling books. Fiction books are amounted to 171 and Non Fiction books at 212, making a difference of 41 books. There are 41% more Non Fiction books than Fiction books on the bestselling list from 2009 to 2020. <br> <br> To conclude, Fiction has less bestselling books than Non Fiction, but a higher mean rating, while Non Fiction has more bestselling books, but a lower mean rating."
   ]
  },
  {
   "cell_type": "code",
   "execution_count": 23,
   "id": "0c2fb983",
   "metadata": {},
   "outputs": [
    {
     "data": {
      "image/png": "[encoded data removed]",
      "text/plain": [
       "<Figure size 432x288 with 1 Axes>"
      ]
     },
     "metadata": {
      "needs_background": "light"
     },
     "output_type": "display_data"
    }
   ],
   "source": [
    "# 3 Question C: Were non-fiction or fiction bestsellers more predominant over the 12 years?\n",
    "dfcomparison = df_delduplicatesrating.loc[:, ['Year','Genre']]\n",
    "df_nonfiction = dfcomparison.loc[dfcomparison['Genre']=='Non Fiction']\n",
    "df_fiction = dfcomparison.loc[dfcomparison['Genre']=='Fiction']\n",
    "df_nonfiction.value_counts(sort=False).plot.line(color=['tab:orange'])\n",
    "df_fiction.value_counts(sort=False).plot.line(color=['tab:blue'])\n",
    "plt.xlabel('Year')\n",
    "plt.ylabel('Amount of books on bestselling list')\n",
    "plt.title('Comparing genres of bestselling books based on frequency over years')\n",
    "plt.legend(['Non Fiction','Fiction'])\n",
    "plt.subplots_adjust(right=1.5)\n",
    "plt.yticks(np.arange(5,30,5))\n",
    "labels=[2009, 2010, 2011, 2012, 2013, 2014, 2015, 2016, 2017, 2018, 2019, 2020]\n",
    "plt.xticks(np.arange(0,12,1), labels)\n",
    "plt.show()"
   ]
  },
  {
   "cell_type": "code",
   "execution_count": 24,
   "id": "1f9238cd",
   "metadata": {},
   "outputs": [
    {
     "name": "stdout",
     "output_type": "stream",
     "text": [
      "\n",
      "Fiction: Year  Genre  \n",
      "2009  Fiction    24\n",
      "2010  Fiction    17\n",
      "2011  Fiction    14\n",
      "2012  Fiction    16\n",
      "2013  Fiction    17\n",
      "2014  Fiction    17\n",
      "2015  Fiction     9\n",
      "2016  Fiction    11\n",
      "2017  Fiction    15\n",
      "2018  Fiction    11\n",
      "2019  Fiction     9\n",
      "2020  Fiction    17\n",
      "dtype: int64\n",
      "\n",
      "Non Fiction: Year  Genre      \n",
      "2009  Non Fiction    26\n",
      "2010  Non Fiction    23\n",
      "2011  Non Fiction    17\n",
      "2012  Non Fiction    12\n",
      "2013  Non Fiction    16\n",
      "2014  Non Fiction    10\n",
      "2015  Non Fiction    21\n",
      "2016  Non Fiction    17\n",
      "2017  Non Fiction    12\n",
      "2018  Non Fiction    19\n",
      "2019  Non Fiction    18\n",
      "2020  Non Fiction    22\n",
      "dtype: int64\n"
     ]
    }
   ],
   "source": [
    "# 3 Question C: Showing dataframe for easier describing of data and graph.\n",
    "print(\"\\nFiction:\",df_fiction.value_counts(sort=False))\n",
    "print(\"\\nNon Fiction:\",df_nonfiction.value_counts(sort=False))"
   ]
  },
  {
   "cell_type": "markdown",
   "id": "3f6d4630",
   "metadata": {},
   "source": [
    "# Question C Graph Interpretation -\n",
    "The two line graphs in orange and blue respectively represent Non Fiction and Fiction bestselling books. The line graph goes over the count of each genre for each year from 2009 to 2020. Overall, Fictcion and Non Fiction both fluctuated over the years, but ultimately each lowered their count from the beginning in 2009, with Fiction dropping down from 24 to 17 books, and Non Fiction dropping down from 26 to 22 books. Fiction had a lower frequency of books over the years, with Non Fiction have a higher amount for almost every year. In 2012, Fiction books had four more books than Non Fiction books, 16 versus 12, and this trend continued up until 2015, in which Fiction dropped down from 17 to 9 books and Non Fiction rose from 10 to 21. The trend of Non Fiction outranking Fiction continued with the exception of 2017, in which Fiction had 3 more books than Non Fiction, 15 versus 12. <br> <br> To conclude: The two line graphs show Non Fiction in orange and Fiction in blue for bestselling books over twelve years. Non Fiction was more predominant than Fiction throughout, with a few exceptions from 2012-2014 and 2017. Both Fiction and Non Fiction had fluctuating counts of books, but both ended with a lower amount of books than what they started at."
   ]
  },
  {
   "cell_type": "markdown",
   "id": "a4148774",
   "metadata": {},
   "source": [
    "# Summary -\n",
    "# The main findings I found from the project are listed below as followed:\n",
    "- The amount of non-fiction bestseller books compared to fiction bestseller books from 2009 to 2020.\n",
    "- How many non-fiction bestsellers and fiction bestsellers there are from 2009 to 2020.\n",
    "- How bestselling fiction books ratings and bestselling non-fiction books ratings compare to each other.\n",
    "- User Rating and Price have little to no correlation. <br>\n",
    "# What I failed to find:\n",
    "- What actually correlates with Price, there may be little correlation to any of the columns.\n",
    "- Why did Fiction have more popularity from 2012-2014 and in 2017?\n",
    "- Why did Non Fiction have more bestseller books overall?\n",
    "- Does the mean rating from each genre indicate a popularity preference?\n",
    "- Why are most prices around ```$10``` to ```$30```? <br>\n",
    "# What I want to further explore about the topic:\n",
    "- With duplicates, my previous questions.\n",
    "- How many bestselling books get replaced every year?\n",
    "- Do reviews relate to rating?\n",
    "- What titles and/or authors get the best ratings?"
   ]
  },
  {
   "cell_type": "markdown",
   "id": "f765a38d",
   "metadata": {},
   "source": [
    "[This is a link to the project on GitHub](https://github.com/JackHCOMP/COMP3800Project1)"
   ]
  },
  {
   "cell_type": "code",
   "execution_count": null,
   "id": "93f66171",
   "metadata": {},
   "outputs": [],
   "source": []
  }
 ],
 "metadata": {
  "kernelspec": {
   "display_name": "Python 3 (ipykernel)",
   "language": "python",
   "name": "python3"
  },
  "language_info": {
   "codemirror_mode": {
    "name": "ipython",
    "version": 3
   },
   "file_extension": ".py",
   "mimetype": "text/x-python",
   "name": "python",
   "nbconvert_exporter": "python",
   "pygments_lexer": "ipython3",
   "version": "3.9.12"
  }
 },
 "nbformat": 4,
 "nbformat_minor": 5
}
