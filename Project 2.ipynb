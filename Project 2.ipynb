{
 "cells": [
  {
   "cell_type": "code",
   "execution_count": 40,
   "id": "c0dde688",
   "metadata": {},
   "outputs": [],
   "source": [
    "import pandas as pd\n",
    "import numpy as np\n",
    "from sklearn.model_selection import train_test_split\n",
    "from sklearn.linear_model import LinearRegression\n",
    "from sklearn.preprocessing import StandardScaler\n",
    "from sklearn.preprocessing import MinMaxScaler\n",
    "from sklearn.metrics import mean_squared_error\n",
    "import seaborn as sns\n",
    "from sklearn.feature_selection import SelectKBest, f_classif, chi2\n",
    "import matplotlib.pyplot as plt\n",
    "from imblearn.over_sampling import SMOTE\n",
    "from sklearn.metrics import log_loss, roc_auc_score, recall_score, precision_score, average_precision_score, f1_score, classification_report, accuracy_score, plot_roc_curve, plot_precision_recall_curve, plot_confusion_matrix\n",
    "from sklearn.metrics import ConfusionMatrixDisplay\n",
    "from sklearn.model_selection import cross_val_score"
   ]
  },
  {
   "cell_type": "markdown",
   "id": "6e56d609",
   "metadata": {},
   "source": [
    "# #1 Introduction\n",
    "The dataset I am utilizing is about car prices and their details. Below is a list of the features for each row:\n",
    "- ID (Identifier)\n",
    "- Price (How much it costs)\n",
    "- Levy (How much it will pay off tax debt if seized from the person)\n",
    "- Manufacturer (Who made it)\n",
    "- Model (What type of car from Manufacturer)\n",
    "- Prod. Year (What year it was produced)\n",
    "- Category (What type of car overall)\n",
    "- Leather Interior (Whether or not it has leather interior)\n",
    "- Fuel Type (What type of fuel it takes to run the car)\n",
    "- Engine volume (What size the engine is along with whether or not it is Turbo)\n",
    "- Cylinders (How many cylinders the engine has)\n",
    "- Gear box type (What type of gear box)\n",
    "- Drive wheels (Which wheels are the ones that move the car forcefully)\n",
    "- Doors (What kind of doors there are)\n",
    "- Wheel (Where the wheel is placed within the car, left or right)\n",
    "- Color (Color of the car)\n",
    "\n",
    "The target variable I have is selling price, as many of the factors above impact how much a car is worth.\n",
    "\n",
    "The prediction goal I have is: <b>“What factors above in car details correlate to and impact car selling price?”"
   ]
  },
  {
   "cell_type": "code",
   "execution_count": 41,
   "id": "53e5eb69",
   "metadata": {},
   "outputs": [
    {
     "name": "stdout",
     "output_type": "stream",
     "text": [
      "Overview of dataset\n",
      "\n",
      "<class 'pandas.core.frame.DataFrame'>\n",
      "RangeIndex: 19237 entries, 0 to 19236\n",
      "Data columns (total 18 columns):\n",
      " #   Column            Non-Null Count  Dtype  \n",
      "---  ------            --------------  -----  \n",
      " 0   ID                19237 non-null  int64  \n",
      " 1   Price             19237 non-null  int64  \n",
      " 2   Levy              19237 non-null  object \n",
      " 3   Manufacturer      19237 non-null  object \n",
      " 4   Model             19237 non-null  object \n",
      " 5   Prod. year        19237 non-null  int64  \n",
      " 6   Category          19237 non-null  object \n",
      " 7   Leather interior  19237 non-null  object \n",
      " 8   Fuel type         19237 non-null  object \n",
      " 9   Engine volume     19237 non-null  object \n",
      " 10  Mileage           19237 non-null  object \n",
      " 11  Cylinders         19237 non-null  float64\n",
      " 12  Gear box type     19237 non-null  object \n",
      " 13  Drive wheels      19237 non-null  object \n",
      " 14  Doors             19237 non-null  object \n",
      " 15  Wheel             19237 non-null  object \n",
      " 16  Color             19237 non-null  object \n",
      " 17  Airbags           19237 non-null  int64  \n",
      "dtypes: float64(1), int64(4), object(13)\n",
      "memory usage: 2.6+ MB\n",
      "None\n"
     ]
    },
    {
     "data": {
      "text/html": [
       "<div>\n",
       "<style scoped>\n",
       "    .dataframe tbody tr th:only-of-type {\n",
       "        vertical-align: middle;\n",
       "    }\n",
       "\n",
       "    .dataframe tbody tr th {\n",
       "        vertical-align: top;\n",
       "    }\n",
       "\n",
       "    .dataframe thead th {\n",
       "        text-align: right;\n",
       "    }\n",
       "</style>\n",
       "<table border=\"1\" class=\"dataframe\">\n",
       "  <thead>\n",
       "    <tr style=\"text-align: right;\">\n",
       "      <th></th>\n",
       "      <th>ID</th>\n",
       "      <th>target</th>\n",
       "      <th>Levy</th>\n",
       "      <th>Manufacturer</th>\n",
       "      <th>Model</th>\n",
       "      <th>Prod. year</th>\n",
       "      <th>Category</th>\n",
       "      <th>Leather interior</th>\n",
       "      <th>Fuel type</th>\n",
       "      <th>Engine volume</th>\n",
       "      <th>Mileage</th>\n",
       "      <th>Cylinders</th>\n",
       "      <th>Gear box type</th>\n",
       "      <th>Drive wheels</th>\n",
       "      <th>Doors</th>\n",
       "      <th>Wheel</th>\n",
       "      <th>Color</th>\n",
       "      <th>Airbags</th>\n",
       "    </tr>\n",
       "  </thead>\n",
       "  <tbody>\n",
       "    <tr>\n",
       "      <th>0</th>\n",
       "      <td>45654403</td>\n",
       "      <td>13328</td>\n",
       "      <td>1399</td>\n",
       "      <td>LEXUS</td>\n",
       "      <td>RX 450</td>\n",
       "      <td>2010</td>\n",
       "      <td>Jeep</td>\n",
       "      <td>Yes</td>\n",
       "      <td>Hybrid</td>\n",
       "      <td>3.5</td>\n",
       "      <td>186005 km</td>\n",
       "      <td>6.0</td>\n",
       "      <td>Automatic</td>\n",
       "      <td>4x4</td>\n",
       "      <td>04-May</td>\n",
       "      <td>Left wheel</td>\n",
       "      <td>Silver</td>\n",
       "      <td>12</td>\n",
       "    </tr>\n",
       "    <tr>\n",
       "      <th>1</th>\n",
       "      <td>44731507</td>\n",
       "      <td>16621</td>\n",
       "      <td>1018</td>\n",
       "      <td>CHEVROLET</td>\n",
       "      <td>Equinox</td>\n",
       "      <td>2011</td>\n",
       "      <td>Jeep</td>\n",
       "      <td>No</td>\n",
       "      <td>Petrol</td>\n",
       "      <td>3</td>\n",
       "      <td>192000 km</td>\n",
       "      <td>6.0</td>\n",
       "      <td>Tiptronic</td>\n",
       "      <td>4x4</td>\n",
       "      <td>04-May</td>\n",
       "      <td>Left wheel</td>\n",
       "      <td>Black</td>\n",
       "      <td>8</td>\n",
       "    </tr>\n",
       "    <tr>\n",
       "      <th>2</th>\n",
       "      <td>45774419</td>\n",
       "      <td>8467</td>\n",
       "      <td>-</td>\n",
       "      <td>HONDA</td>\n",
       "      <td>FIT</td>\n",
       "      <td>2006</td>\n",
       "      <td>Hatchback</td>\n",
       "      <td>No</td>\n",
       "      <td>Petrol</td>\n",
       "      <td>1.3</td>\n",
       "      <td>200000 km</td>\n",
       "      <td>4.0</td>\n",
       "      <td>Variator</td>\n",
       "      <td>Front</td>\n",
       "      <td>04-May</td>\n",
       "      <td>Right-hand drive</td>\n",
       "      <td>Black</td>\n",
       "      <td>2</td>\n",
       "    </tr>\n",
       "    <tr>\n",
       "      <th>3</th>\n",
       "      <td>45769185</td>\n",
       "      <td>3607</td>\n",
       "      <td>862</td>\n",
       "      <td>FORD</td>\n",
       "      <td>Escape</td>\n",
       "      <td>2011</td>\n",
       "      <td>Jeep</td>\n",
       "      <td>Yes</td>\n",
       "      <td>Hybrid</td>\n",
       "      <td>2.5</td>\n",
       "      <td>168966 km</td>\n",
       "      <td>4.0</td>\n",
       "      <td>Automatic</td>\n",
       "      <td>4x4</td>\n",
       "      <td>04-May</td>\n",
       "      <td>Left wheel</td>\n",
       "      <td>White</td>\n",
       "      <td>0</td>\n",
       "    </tr>\n",
       "    <tr>\n",
       "      <th>4</th>\n",
       "      <td>45809263</td>\n",
       "      <td>11726</td>\n",
       "      <td>446</td>\n",
       "      <td>HONDA</td>\n",
       "      <td>FIT</td>\n",
       "      <td>2014</td>\n",
       "      <td>Hatchback</td>\n",
       "      <td>Yes</td>\n",
       "      <td>Petrol</td>\n",
       "      <td>1.3</td>\n",
       "      <td>91901 km</td>\n",
       "      <td>4.0</td>\n",
       "      <td>Automatic</td>\n",
       "      <td>Front</td>\n",
       "      <td>04-May</td>\n",
       "      <td>Left wheel</td>\n",
       "      <td>Silver</td>\n",
       "      <td>4</td>\n",
       "    </tr>\n",
       "    <tr>\n",
       "      <th>...</th>\n",
       "      <td>...</td>\n",
       "      <td>...</td>\n",
       "      <td>...</td>\n",
       "      <td>...</td>\n",
       "      <td>...</td>\n",
       "      <td>...</td>\n",
       "      <td>...</td>\n",
       "      <td>...</td>\n",
       "      <td>...</td>\n",
       "      <td>...</td>\n",
       "      <td>...</td>\n",
       "      <td>...</td>\n",
       "      <td>...</td>\n",
       "      <td>...</td>\n",
       "      <td>...</td>\n",
       "      <td>...</td>\n",
       "      <td>...</td>\n",
       "      <td>...</td>\n",
       "    </tr>\n",
       "    <tr>\n",
       "      <th>19232</th>\n",
       "      <td>45798355</td>\n",
       "      <td>8467</td>\n",
       "      <td>-</td>\n",
       "      <td>MERCEDES-BENZ</td>\n",
       "      <td>CLK 200</td>\n",
       "      <td>1999</td>\n",
       "      <td>Coupe</td>\n",
       "      <td>Yes</td>\n",
       "      <td>CNG</td>\n",
       "      <td>2.0 Turbo</td>\n",
       "      <td>300000 km</td>\n",
       "      <td>4.0</td>\n",
       "      <td>Manual</td>\n",
       "      <td>Rear</td>\n",
       "      <td>02-Mar</td>\n",
       "      <td>Left wheel</td>\n",
       "      <td>Silver</td>\n",
       "      <td>5</td>\n",
       "    </tr>\n",
       "    <tr>\n",
       "      <th>19233</th>\n",
       "      <td>45778856</td>\n",
       "      <td>15681</td>\n",
       "      <td>831</td>\n",
       "      <td>HYUNDAI</td>\n",
       "      <td>Sonata</td>\n",
       "      <td>2011</td>\n",
       "      <td>Sedan</td>\n",
       "      <td>Yes</td>\n",
       "      <td>Petrol</td>\n",
       "      <td>2.4</td>\n",
       "      <td>161600 km</td>\n",
       "      <td>4.0</td>\n",
       "      <td>Tiptronic</td>\n",
       "      <td>Front</td>\n",
       "      <td>04-May</td>\n",
       "      <td>Left wheel</td>\n",
       "      <td>Red</td>\n",
       "      <td>8</td>\n",
       "    </tr>\n",
       "    <tr>\n",
       "      <th>19234</th>\n",
       "      <td>45804997</td>\n",
       "      <td>26108</td>\n",
       "      <td>836</td>\n",
       "      <td>HYUNDAI</td>\n",
       "      <td>Tucson</td>\n",
       "      <td>2010</td>\n",
       "      <td>Jeep</td>\n",
       "      <td>Yes</td>\n",
       "      <td>Diesel</td>\n",
       "      <td>2</td>\n",
       "      <td>116365 km</td>\n",
       "      <td>4.0</td>\n",
       "      <td>Automatic</td>\n",
       "      <td>Front</td>\n",
       "      <td>04-May</td>\n",
       "      <td>Left wheel</td>\n",
       "      <td>Grey</td>\n",
       "      <td>4</td>\n",
       "    </tr>\n",
       "    <tr>\n",
       "      <th>19235</th>\n",
       "      <td>45793526</td>\n",
       "      <td>5331</td>\n",
       "      <td>1288</td>\n",
       "      <td>CHEVROLET</td>\n",
       "      <td>Captiva</td>\n",
       "      <td>2007</td>\n",
       "      <td>Jeep</td>\n",
       "      <td>Yes</td>\n",
       "      <td>Diesel</td>\n",
       "      <td>2</td>\n",
       "      <td>51258 km</td>\n",
       "      <td>4.0</td>\n",
       "      <td>Automatic</td>\n",
       "      <td>Front</td>\n",
       "      <td>04-May</td>\n",
       "      <td>Left wheel</td>\n",
       "      <td>Black</td>\n",
       "      <td>4</td>\n",
       "    </tr>\n",
       "    <tr>\n",
       "      <th>19236</th>\n",
       "      <td>45813273</td>\n",
       "      <td>470</td>\n",
       "      <td>753</td>\n",
       "      <td>HYUNDAI</td>\n",
       "      <td>Sonata</td>\n",
       "      <td>2012</td>\n",
       "      <td>Sedan</td>\n",
       "      <td>Yes</td>\n",
       "      <td>Hybrid</td>\n",
       "      <td>2.4</td>\n",
       "      <td>186923 km</td>\n",
       "      <td>4.0</td>\n",
       "      <td>Automatic</td>\n",
       "      <td>Front</td>\n",
       "      <td>04-May</td>\n",
       "      <td>Left wheel</td>\n",
       "      <td>White</td>\n",
       "      <td>12</td>\n",
       "    </tr>\n",
       "  </tbody>\n",
       "</table>\n",
       "<p>19237 rows × 18 columns</p>\n",
       "</div>"
      ],
      "text/plain": [
       "             ID  target  Levy   Manufacturer    Model  Prod. year   Category  \\\n",
       "0      45654403   13328  1399          LEXUS   RX 450        2010       Jeep   \n",
       "1      44731507   16621  1018      CHEVROLET  Equinox        2011       Jeep   \n",
       "2      45774419    8467     -          HONDA      FIT        2006  Hatchback   \n",
       "3      45769185    3607   862           FORD   Escape        2011       Jeep   \n",
       "4      45809263   11726   446          HONDA      FIT        2014  Hatchback   \n",
       "...         ...     ...   ...            ...      ...         ...        ...   \n",
       "19232  45798355    8467     -  MERCEDES-BENZ  CLK 200        1999      Coupe   \n",
       "19233  45778856   15681   831        HYUNDAI   Sonata        2011      Sedan   \n",
       "19234  45804997   26108   836        HYUNDAI   Tucson        2010       Jeep   \n",
       "19235  45793526    5331  1288      CHEVROLET  Captiva        2007       Jeep   \n",
       "19236  45813273     470   753        HYUNDAI   Sonata        2012      Sedan   \n",
       "\n",
       "      Leather interior Fuel type Engine volume    Mileage  Cylinders  \\\n",
       "0                  Yes    Hybrid           3.5  186005 km        6.0   \n",
       "1                   No    Petrol             3  192000 km        6.0   \n",
       "2                   No    Petrol           1.3  200000 km        4.0   \n",
       "3                  Yes    Hybrid           2.5  168966 km        4.0   \n",
       "4                  Yes    Petrol           1.3   91901 km        4.0   \n",
       "...                ...       ...           ...        ...        ...   \n",
       "19232              Yes       CNG     2.0 Turbo  300000 km        4.0   \n",
       "19233              Yes    Petrol           2.4  161600 km        4.0   \n",
       "19234              Yes    Diesel             2  116365 km        4.0   \n",
       "19235              Yes    Diesel             2   51258 km        4.0   \n",
       "19236              Yes    Hybrid           2.4  186923 km        4.0   \n",
       "\n",
       "      Gear box type Drive wheels   Doors             Wheel   Color  Airbags  \n",
       "0         Automatic          4x4  04-May        Left wheel  Silver       12  \n",
       "1         Tiptronic          4x4  04-May        Left wheel   Black        8  \n",
       "2          Variator        Front  04-May  Right-hand drive   Black        2  \n",
       "3         Automatic          4x4  04-May        Left wheel   White        0  \n",
       "4         Automatic        Front  04-May        Left wheel  Silver        4  \n",
       "...             ...          ...     ...               ...     ...      ...  \n",
       "19232        Manual         Rear  02-Mar        Left wheel  Silver        5  \n",
       "19233     Tiptronic        Front  04-May        Left wheel     Red        8  \n",
       "19234     Automatic        Front  04-May        Left wheel    Grey        4  \n",
       "19235     Automatic        Front  04-May        Left wheel   Black        4  \n",
       "19236     Automatic        Front  04-May        Left wheel   White       12  \n",
       "\n",
       "[19237 rows x 18 columns]"
      ]
     },
     "execution_count": 41,
     "metadata": {},
     "output_type": "execute_result"
    }
   ],
   "source": [
    "# 1 Loading dataset\n",
    "df = pd.read_csv('car_price_prediction.csv')\n",
    "print(\"Overview of dataset\\n\")\n",
    "print(df.info())\n",
    "df = df.rename(columns={'Price': 'target'})\n",
    "df"
   ]
  },
  {
   "cell_type": "code",
   "execution_count": 42,
   "id": "474d93e1",
   "metadata": {},
   "outputs": [
    {
     "name": "stdout",
     "output_type": "stream",
     "text": [
      "<class 'pandas.core.frame.DataFrame'>\n",
      "RangeIndex: 19237 entries, 0 to 19236\n",
      "Data columns (total 18 columns):\n",
      " #   Column            Non-Null Count  Dtype  \n",
      "---  ------            --------------  -----  \n",
      " 0   ID                19237 non-null  int64  \n",
      " 1   target            19237 non-null  int64  \n",
      " 2   Levy              19237 non-null  object \n",
      " 3   Manufacturer      19237 non-null  object \n",
      " 4   Model             19237 non-null  object \n",
      " 5   Prod. year        19237 non-null  int64  \n",
      " 6   Category          19237 non-null  object \n",
      " 7   Leather interior  19237 non-null  object \n",
      " 8   Fuel type         19237 non-null  object \n",
      " 9   Engine volume     19237 non-null  object \n",
      " 10  Mileage           19237 non-null  object \n",
      " 11  Cylinders         19237 non-null  float64\n",
      " 12  Gear box type     19237 non-null  object \n",
      " 13  Drive wheels      19237 non-null  object \n",
      " 14  Doors             19237 non-null  object \n",
      " 15  Wheel             19237 non-null  object \n",
      " 16  Color             19237 non-null  object \n",
      " 17  Airbags           19237 non-null  int64  \n",
      "dtypes: float64(1), int64(4), object(13)\n",
      "memory usage: 2.6+ MB\n",
      "None\n"
     ]
    }
   ],
   "source": [
    "# 2 Dropping null values of each column\n",
    "df = df.dropna(axis=0)\n",
    "print(df.info())"
   ]
  },
  {
   "cell_type": "code",
   "execution_count": 43,
   "id": "52c5ba4a",
   "metadata": {},
   "outputs": [
    {
     "name": "stdout",
     "output_type": "stream",
     "text": [
      "45815365    8\n",
      "45815361    8\n",
      "45815363    7\n",
      "45815368    7\n",
      "45723475    7\n",
      "           ..\n",
      "45774312    1\n",
      "45732621    1\n",
      "45773011    1\n",
      "45774019    1\n",
      "45813273    1\n",
      "Name: ID, Length: 18924, dtype: int64\n",
      "\n",
      "Prius                    1083\n",
      "Sonata                   1079\n",
      "Camry                     938\n",
      "Elantra                   922\n",
      "E 350                     542\n",
      "                         ... \n",
      "Feroza                      1\n",
      "C-MAX C-MAX                 1\n",
      "X1 4X4                      1\n",
      "Land Cruiser Prado RX       1\n",
      "Prius C aqua                1\n",
      "Name: Model, Length: 1590, dtype: int64\n"
     ]
    }
   ],
   "source": [
    "# 2 Checking column 'ID', 'Model' for amount of unique values.\n",
    "print(df['ID'].value_counts())\n",
    "print()\n",
    "print(df['Model'].value_counts())"
   ]
  },
  {
   "cell_type": "code",
   "execution_count": 44,
   "id": "c7192822",
   "metadata": {},
   "outputs": [
    {
     "name": "stdout",
     "output_type": "stream",
     "text": [
      "<class 'pandas.core.frame.DataFrame'>\n",
      "RangeIndex: 19237 entries, 0 to 19236\n",
      "Data columns (total 15 columns):\n",
      " #   Column            Non-Null Count  Dtype  \n",
      "---  ------            --------------  -----  \n",
      " 0   target            19237 non-null  int64  \n",
      " 1   Manufacturer      19237 non-null  object \n",
      " 2   Prod. year        19237 non-null  int64  \n",
      " 3   Category          19237 non-null  object \n",
      " 4   Leather interior  19237 non-null  object \n",
      " 5   Fuel type         19237 non-null  object \n",
      " 6   Engine volume     19237 non-null  object \n",
      " 7   Mileage           19237 non-null  object \n",
      " 8   Cylinders         19237 non-null  float64\n",
      " 9   Gear box type     19237 non-null  object \n",
      " 10  Drive wheels      19237 non-null  object \n",
      " 11  Doors             19237 non-null  object \n",
      " 12  Wheel             19237 non-null  object \n",
      " 13  Color             19237 non-null  object \n",
      " 14  Airbags           19237 non-null  int64  \n",
      "dtypes: float64(1), int64(3), object(11)\n",
      "memory usage: 2.2+ MB\n",
      "None\n"
     ]
    }
   ],
   "source": [
    "# 2 Dropping column 'ID', 'Levy', 'Model' (too many unique values or irrelevant feature)\n",
    "df = df.drop(['ID','Levy','Model'],axis=1)\n",
    "print(df.info())"
   ]
  },
  {
   "cell_type": "code",
   "execution_count": 45,
   "id": "832ba41e",
   "metadata": {},
   "outputs": [
    {
     "name": "stdout",
     "output_type": "stream",
     "text": [
      "Shape before deduplication: 19237\n",
      "Shape after deduplication: 15707\n"
     ]
    }
   ],
   "source": [
    "# 2 Removing duplicates\n",
    "print(\"Shape before deduplication:\",df.shape[0])\n",
    "df = df.drop_duplicates(keep='first')\n",
    "print(\"Shape after deduplication:\",df.shape[0])"
   ]
  },
  {
   "cell_type": "markdown",
   "id": "604e8575",
   "metadata": {},
   "source": [
    "# (Code below for engine volume and doors taken from Ahmet Calis's Car Price Prediction overview, as I found out from him that I should probably put Turbo as a seperate column) Link to code overview: https://www.kaggle.com/code/ahmetcalis/car-price-prediction"
   ]
  },
  {
   "cell_type": "code",
   "execution_count": 46,
   "id": "27417334",
   "metadata": {},
   "outputs": [
    {
     "data": {
      "text/plain": [
       "2            3313\n",
       "2.5          1652\n",
       "1.8          1536\n",
       "1.5          1234\n",
       "1.6          1221\n",
       "             ... \n",
       "7.3             1\n",
       "0.2 Turbo       1\n",
       "6.8             1\n",
       "6.7             1\n",
       "1.1 Turbo       1\n",
       "Name: Engine volume, Length: 107, dtype: int64"
      ]
     },
     "execution_count": 46,
     "metadata": {},
     "output_type": "execute_result"
    }
   ],
   "source": [
    "# 2 Checking engine volume's values\n",
    "df['Engine volume'].value_counts()"
   ]
  },
  {
   "cell_type": "code",
   "execution_count": 47,
   "id": "4253ec81",
   "metadata": {},
   "outputs": [
    {
     "name": "stdout",
     "output_type": "stream",
     "text": [
      "2.0    3716\n",
      "2.5    1743\n",
      "1.8    1711\n",
      "1.6    1337\n",
      "1.5    1299\n",
      "       ... \n",
      "0.5       1\n",
      "7.3       1\n",
      "3.1       1\n",
      "5.2       1\n",
      "5.8       1\n",
      "Name: Engine volume, Length: 65, dtype: int64\n",
      "False    13822\n",
      "True      1885\n",
      "Name: Turbo, dtype: int64\n"
     ]
    }
   ],
   "source": [
    "# 2 Making sure that we dont miss anything so making everything lower first\n",
    "df['Engine volume'] = df['Engine volume'].str.lower()\n",
    "\n",
    "# 2 Finding the rows which has turbo in them and assigning the results to new column Turbo. \n",
    "df['Turbo'] = df['Engine volume'].str.contains('turbo')\n",
    "\n",
    "# 2 Slicing engine volumes and converting type to float\n",
    "df['Engine volume'] = df['Engine volume'].str.slice(0,3)\n",
    "df['Engine volume'] = df['Engine volume'].astype('float64')\n",
    "\n",
    "print(df['Engine volume'].value_counts())\n",
    "print(df['Turbo'].value_counts())"
   ]
  },
  {
   "cell_type": "code",
   "execution_count": 48,
   "id": "016a7814",
   "metadata": {},
   "outputs": [
    {
     "data": {
      "text/plain": [
       "4    14838\n",
       "2      745\n",
       "5      124\n",
       "Name: Doors, dtype: int64"
      ]
     },
     "execution_count": 48,
     "metadata": {},
     "output_type": "execute_result"
    }
   ],
   "source": [
    "# 2 Replacing door values with numbers\n",
    "df['Doors'].replace({'04-May':4, '02-Mar':2, '>5':5}, inplace=True)\n",
    "df['Doors'].value_counts()"
   ]
  },
  {
   "cell_type": "code",
   "execution_count": 49,
   "id": "73fd1c68",
   "metadata": {},
   "outputs": [
    {
     "name": "stdout",
     "output_type": "stream",
     "text": [
      "0         608\n",
      "200000    181\n",
      "150000    156\n",
      "160000    119\n",
      "180000    115\n",
      "         ... \n",
      "104200      1\n",
      "120455      1\n",
      "147790      1\n",
      "25038       1\n",
      "186923      1\n",
      "Name: Mileage, Length: 7687, dtype: int64\n",
      "0\n"
     ]
    }
   ],
   "source": [
    "# 2 Replacing mileage values with numbers.\n",
    "df['Mileage'] = df['Mileage'].replace(\"km\",\"\", regex=True)\n",
    "df['Mileage'] = pd.to_numeric(df['Mileage'])\n",
    "print(df['Mileage'].value_counts())\n",
    "print(df['Mileage'].isnull().sum())"
   ]
  },
  {
   "cell_type": "code",
   "execution_count": 50,
   "id": "c311a05f",
   "metadata": {},
   "outputs": [
    {
     "name": "stdout",
     "output_type": "stream",
     "text": [
      "Black            3831\n",
      "White            3606\n",
      "Silver           3143\n",
      "Grey             1918\n",
      "Blue             1245\n",
      "Red               567\n",
      "Green             288\n",
      "Orange            204\n",
      "Carnelian red     177\n",
      "Brown             172\n",
      "Golden            142\n",
      "Beige             134\n",
      "Sky blue          122\n",
      "Yellow             94\n",
      "Purple             39\n",
      "Pink               25\n",
      "Name: Color, dtype: int64\n",
      "Sedan          7003\n",
      "Jeep           4217\n",
      "Hatchback      2546\n",
      "Minivan         534\n",
      "Coupe           475\n",
      "Universal       311\n",
      "Microbus        295\n",
      "Goods wagon     229\n",
      "Pickup           51\n",
      "Cabriolet        35\n",
      "Limousine        11\n",
      "Name: Category, dtype: int64\n",
      "Automatic    10077\n",
      "Tiptronic     3061\n",
      "Manual        1837\n",
      "Variator       732\n",
      "Name: Gear box type, dtype: int64\n",
      "HYUNDAI          3048\n",
      "TOYOTA           2859\n",
      "MERCEDES-BENZ    1449\n",
      "CHEVROLET         968\n",
      "FORD              956\n",
      "                 ... \n",
      "TESLA               1\n",
      "PONTIAC             1\n",
      "SATURN              1\n",
      "ASTON MARTIN        1\n",
      "GREATWALL           1\n",
      "Name: Manufacturer, Length: 65, dtype: int64\n",
      "Petrol            8817\n",
      "Diesel            3206\n",
      "Hybrid            2419\n",
      "LPG                714\n",
      "CNG                465\n",
      "Plug-in Hybrid      85\n",
      "Hydrogen             1\n",
      "Name: Fuel type, dtype: int64\n"
     ]
    }
   ],
   "source": [
    "# 2 Gathering information on value counts for each categorical feature with more than 5-6 values. (see which rows or columns to drop based on unique values)\n",
    "print(df['Color'].value_counts())\n",
    "print(df['Category'].value_counts())\n",
    "print(df['Gear box type'].value_counts())\n",
    "print(df['Manufacturer'].value_counts())\n",
    "print(df['Fuel type'].value_counts())"
   ]
  },
  {
   "cell_type": "code",
   "execution_count": 51,
   "id": "cae9757a",
   "metadata": {},
   "outputs": [
    {
     "name": "stdout",
     "output_type": "stream",
     "text": [
      "<class 'pandas.core.frame.DataFrame'>\n",
      "Int64Index: 15707 entries, 0 to 19236\n",
      "Data columns (total 14 columns):\n",
      " #   Column            Non-Null Count  Dtype  \n",
      "---  ------            --------------  -----  \n",
      " 0   target            15707 non-null  int64  \n",
      " 1   Prod. year        15707 non-null  int64  \n",
      " 2   Category          15707 non-null  object \n",
      " 3   Leather interior  15707 non-null  object \n",
      " 4   Fuel type         15707 non-null  object \n",
      " 5   Engine volume     15707 non-null  float64\n",
      " 6   Mileage           15707 non-null  int64  \n",
      " 7   Cylinders         15707 non-null  float64\n",
      " 8   Gear box type     15707 non-null  object \n",
      " 9   Drive wheels      15707 non-null  object \n",
      " 10  Doors             15707 non-null  int64  \n",
      " 11  Wheel             15707 non-null  object \n",
      " 12  Airbags           15707 non-null  int64  \n",
      " 13  Turbo             15707 non-null  bool   \n",
      "dtypes: bool(1), float64(2), int64(5), object(6)\n",
      "memory usage: 1.7+ MB\n",
      "None\n"
     ]
    }
   ],
   "source": [
    "# 2 Dropping manufacturer and color due to too many unique values.\n",
    "df = df.drop(['Manufacturer','Color'],axis=1)\n",
    "print(df.info())"
   ]
  },
  {
   "cell_type": "code",
   "execution_count": 52,
   "id": "d778579b",
   "metadata": {},
   "outputs": [
    {
     "name": "stdout",
     "output_type": "stream",
     "text": [
      "Petrol    8817\n",
      "Diesel    3206\n",
      "Hybrid    2504\n",
      "LPG        714\n",
      "CNG        465\n",
      "Name: Fuel type, dtype: int64\n"
     ]
    }
   ],
   "source": [
    "# 2 Dropping hydrogen and merging plug-in hybrid to hybrid.\n",
    "df = df.drop(df[df['Fuel type'] == 'Hydrogen'].index, axis=0)\n",
    "df = df.replace('Plug-in Hybrid','Hybrid')\n",
    "print(df['Fuel type'].value_counts())"
   ]
  },
  {
   "cell_type": "code",
   "execution_count": 53,
   "id": "f51d0366",
   "metadata": {
    "scrolled": true
   },
   "outputs": [
    {
     "name": "stdout",
     "output_type": "stream",
     "text": [
      "\n",
      " {'Sedan': 7002, 'Jeep': 4217, 'Hatchback': 2546, 'Minivan': 534, 'Coupe': 475, 'Universal': 311, 'Microbus': 295, 'Goods wagon': 229, 'Pickup': 51, 'Cabriolet': 35, 'Limousine': 11}\n",
      "\n",
      " 0     7002\n",
      "1     4217\n",
      "2     2546\n",
      "3      534\n",
      "4      475\n",
      "5      311\n",
      "6      295\n",
      "7      229\n",
      "8       51\n",
      "9       35\n",
      "10      11\n",
      "Name: Category, dtype: int64\n",
      "\n",
      " {'Yes': 10543, 'No': 5163}\n",
      "\n",
      " 0    10543\n",
      "1     5163\n",
      "Name: Leather interior, dtype: int64\n",
      "\n",
      " {'Petrol': 8817, 'Diesel': 3206, 'Hybrid': 2504, 'LPG': 714, 'CNG': 465}\n",
      "\n",
      " 0    8817\n",
      "1    3206\n",
      "2    2504\n",
      "3     714\n",
      "4     465\n",
      "Name: Fuel type, dtype: int64\n",
      "\n",
      " {'Automatic': 10077, 'Tiptronic': 3060, 'Manual': 1837, 'Variator': 732}\n",
      "\n",
      " 0    10077\n",
      "1     3060\n",
      "2     1837\n",
      "3      732\n",
      "Name: Gear box type, dtype: int64\n",
      "\n",
      " {'Front': 10979, '4x4': 2759, 'Rear': 1968}\n",
      "\n",
      " 0    10979\n",
      "1     2759\n",
      "2     1968\n",
      "Name: Drive wheels, dtype: int64\n",
      "\n",
      " {'Left wheel': 14275, 'Right-hand drive': 1431}\n",
      "\n",
      " 0    14275\n",
      "1     1431\n",
      "Name: Wheel, dtype: int64\n",
      "\n",
      " {False: 13821, True: 1885}\n",
      "\n",
      " 0    13821\n",
      "1     1885\n",
      "Name: Turbo, dtype: int64\n"
     ]
    }
   ],
   "source": [
    "# 2 Transforming categorical variables into numeric. (for ANOVA Test)\n",
    "dfcategoricalnumeric = df\n",
    "for column in dfcategoricalnumeric.select_dtypes(['object','bool']):\n",
    "    listofvalues = dfcategoricalnumeric[column].value_counts().to_dict()\n",
    "    print(\"\\n\",listofvalues)\n",
    "    i = 0\n",
    "    for elem in listofvalues:\n",
    "        listofvalues[elem] = i\n",
    "        i = i + 1\n",
    "    dfcategoricalnumeric = dfcategoricalnumeric.replace(listofvalues)\n",
    "    print(\"\\n\",dfcategoricalnumeric[column].value_counts())\n"
   ]
  },
  {
   "cell_type": "code",
   "execution_count": 54,
   "id": "461cd927",
   "metadata": {},
   "outputs": [
    {
     "name": "stdout",
     "output_type": "stream",
     "text": [
      "(15706, 14)\n"
     ]
    },
    {
     "data": {
      "image/png": "[encoded data removed]",
      "text/plain": [
       "<Figure size 432x288 with 1 Axes>"
      ]
     },
     "metadata": {
      "needs_background": "light"
     },
     "output_type": "display_data"
    }
   ],
   "source": [
    "# 2 Checking column 'selling_price' for any outliers\n",
    "df.boxplot(column='target')\n",
    "print(df.shape)"
   ]
  },
  {
   "cell_type": "code",
   "execution_count": 55,
   "id": "cf634bcb",
   "metadata": {},
   "outputs": [
    {
     "name": "stdout",
     "output_type": "stream",
     "text": [
      "(14885, 14)\n"
     ]
    },
    {
     "data": {
      "image/png": "[encoded data removed]",
      "text/plain": [
       "<Figure size 432x288 with 1 Axes>"
      ]
     },
     "metadata": {
      "needs_background": "light"
     },
     "output_type": "display_data"
    }
   ],
   "source": [
    "# 2 Dropping any outliers in 'selling_price'\n",
    "df = df.loc[df['target'] <= (50000)]\n",
    "df.boxplot(column=['target'])\n",
    "print(df.shape)"
   ]
  },
  {
   "cell_type": "code",
   "execution_count": 56,
   "id": "0e1b327b",
   "metadata": {},
   "outputs": [
    {
     "name": "stdout",
     "output_type": "stream",
     "text": [
      "(14028, 14)\n"
     ]
    },
    {
     "data": {
      "image/png": "[encoded data removed]",
      "text/plain": [
       "<Figure size 432x288 with 1 Axes>"
      ]
     },
     "metadata": {
      "needs_background": "light"
     },
     "output_type": "display_data"
    }
   ],
   "source": [
    "# 2 Dropping any outliers in 'selling_price'\n",
    "df = df.loc[df['target'] <= (39000)]\n",
    "df.boxplot(column=['target'])\n",
    "print(df.shape)"
   ]
  },
  {
   "cell_type": "code",
   "execution_count": 57,
   "id": "948facdc",
   "metadata": {},
   "outputs": [
    {
     "name": "stdout",
     "output_type": "stream",
     "text": [
      "(14028, 14)\n"
     ]
    },
    {
     "data": {
      "image/png": "[encoded data removed]",
      "text/plain": [
       "<Figure size 432x288 with 1 Axes>"
      ]
     },
     "metadata": {
      "needs_background": "light"
     },
     "output_type": "display_data"
    }
   ],
   "source": [
    "# 2 Checking column 'Mileage' for outliers\n",
    "df.boxplot(column='Mileage')\n",
    "print(df.shape)"
   ]
  },
  {
   "cell_type": "code",
   "execution_count": 58,
   "id": "5047c39a",
   "metadata": {},
   "outputs": [
    {
     "name": "stdout",
     "output_type": "stream",
     "text": [
      "(13996, 14)\n"
     ]
    },
    {
     "data": {
      "image/png": "[encoded data removed]",
      "text/plain": [
       "<Figure size 432x288 with 1 Axes>"
      ]
     },
     "metadata": {
      "needs_background": "light"
     },
     "output_type": "display_data"
    }
   ],
   "source": [
    "# 2 Dropping any outliers in 'Mileage'\n",
    "df = df.loc[df['Mileage'] <= (0.01 * 1e9)]\n",
    "df.boxplot(column=['Mileage'])\n",
    "print(df.shape)"
   ]
  },
  {
   "cell_type": "code",
   "execution_count": 59,
   "id": "9e1bffc5",
   "metadata": {},
   "outputs": [
    {
     "name": "stdout",
     "output_type": "stream",
     "text": [
      "(13678, 14)\n"
     ]
    },
    {
     "data": {
      "image/png": "[encoded data removed]",
      "text/plain": [
       "<Figure size 432x288 with 1 Axes>"
      ]
     },
     "metadata": {
      "needs_background": "light"
     },
     "output_type": "display_data"
    }
   ],
   "source": [
    "# 2 Dropping any outliers in 'Mileage'\n",
    "df = df.loc[df['Mileage'] <= (0.4 * 1e6)]\n",
    "df.boxplot(column=['Mileage'])\n",
    "print(df.shape)"
   ]
  },
  {
   "cell_type": "code",
   "execution_count": 60,
   "id": "7616bf88",
   "metadata": {},
   "outputs": [
    {
     "name": "stdout",
     "output_type": "stream",
     "text": [
      "(13486, 14)\n"
     ]
    },
    {
     "data": {
      "image/png": "[encoded data removed]",
      "text/plain": [
       "<Figure size 432x288 with 1 Axes>"
      ]
     },
     "metadata": {
      "needs_background": "light"
     },
     "output_type": "display_data"
    }
   ],
   "source": [
    "# 2 Dropping any outliers in 'Mileage'\n",
    "df = df.loc[df['Mileage'] <= (341000)]\n",
    "df.boxplot(column=['Mileage'])\n",
    "print(df.shape)"
   ]
  },
  {
   "cell_type": "code",
   "execution_count": 61,
   "id": "d5774a5b",
   "metadata": {},
   "outputs": [
    {
     "data": {
      "text/html": [
       "<div>\n",
       "<style scoped>\n",
       "    .dataframe tbody tr th:only-of-type {\n",
       "        vertical-align: middle;\n",
       "    }\n",
       "\n",
       "    .dataframe tbody tr th {\n",
       "        vertical-align: top;\n",
       "    }\n",
       "\n",
       "    .dataframe thead th {\n",
       "        text-align: right;\n",
       "    }\n",
       "</style>\n",
       "<table border=\"1\" class=\"dataframe\">\n",
       "  <thead>\n",
       "    <tr style=\"text-align: right;\">\n",
       "      <th></th>\n",
       "      <th>target</th>\n",
       "      <th>Prod. year</th>\n",
       "      <th>Engine volume</th>\n",
       "      <th>Mileage</th>\n",
       "      <th>Cylinders</th>\n",
       "      <th>Doors</th>\n",
       "      <th>Airbags</th>\n",
       "      <th>Turbo</th>\n",
       "    </tr>\n",
       "  </thead>\n",
       "  <tbody>\n",
       "    <tr>\n",
       "      <th>target</th>\n",
       "      <td>1.000000</td>\n",
       "      <td>0.297918</td>\n",
       "      <td>0.060328</td>\n",
       "      <td>-0.084834</td>\n",
       "      <td>-0.008840</td>\n",
       "      <td>0.051402</td>\n",
       "      <td>-0.032300</td>\n",
       "      <td>0.148318</td>\n",
       "    </tr>\n",
       "    <tr>\n",
       "      <th>Prod. year</th>\n",
       "      <td>0.297918</td>\n",
       "      <td>1.000000</td>\n",
       "      <td>-0.087713</td>\n",
       "      <td>-0.219635</td>\n",
       "      <td>-0.144704</td>\n",
       "      <td>0.200028</td>\n",
       "      <td>0.325979</td>\n",
       "      <td>-0.068776</td>\n",
       "    </tr>\n",
       "    <tr>\n",
       "      <th>Engine volume</th>\n",
       "      <td>0.060328</td>\n",
       "      <td>-0.087713</td>\n",
       "      <td>1.000000</td>\n",
       "      <td>0.140727</td>\n",
       "      <td>0.725776</td>\n",
       "      <td>-0.025348</td>\n",
       "      <td>0.242622</td>\n",
       "      <td>-0.029249</td>\n",
       "    </tr>\n",
       "    <tr>\n",
       "      <th>Mileage</th>\n",
       "      <td>-0.084834</td>\n",
       "      <td>-0.219635</td>\n",
       "      <td>0.140727</td>\n",
       "      <td>1.000000</td>\n",
       "      <td>0.108323</td>\n",
       "      <td>-0.010174</td>\n",
       "      <td>-0.040647</td>\n",
       "      <td>0.034676</td>\n",
       "    </tr>\n",
       "    <tr>\n",
       "      <th>Cylinders</th>\n",
       "      <td>-0.008840</td>\n",
       "      <td>-0.144704</td>\n",
       "      <td>0.725776</td>\n",
       "      <td>0.108323</td>\n",
       "      <td>1.000000</td>\n",
       "      <td>-0.044223</td>\n",
       "      <td>0.201051</td>\n",
       "      <td>0.009412</td>\n",
       "    </tr>\n",
       "    <tr>\n",
       "      <th>Doors</th>\n",
       "      <td>0.051402</td>\n",
       "      <td>0.200028</td>\n",
       "      <td>-0.025348</td>\n",
       "      <td>-0.010174</td>\n",
       "      <td>-0.044223</td>\n",
       "      <td>1.000000</td>\n",
       "      <td>0.076988</td>\n",
       "      <td>-0.079971</td>\n",
       "    </tr>\n",
       "    <tr>\n",
       "      <th>Airbags</th>\n",
       "      <td>-0.032300</td>\n",
       "      <td>0.325979</td>\n",
       "      <td>0.242622</td>\n",
       "      <td>-0.040647</td>\n",
       "      <td>0.201051</td>\n",
       "      <td>0.076988</td>\n",
       "      <td>1.000000</td>\n",
       "      <td>0.029879</td>\n",
       "    </tr>\n",
       "    <tr>\n",
       "      <th>Turbo</th>\n",
       "      <td>0.148318</td>\n",
       "      <td>-0.068776</td>\n",
       "      <td>-0.029249</td>\n",
       "      <td>0.034676</td>\n",
       "      <td>0.009412</td>\n",
       "      <td>-0.079971</td>\n",
       "      <td>0.029879</td>\n",
       "      <td>1.000000</td>\n",
       "    </tr>\n",
       "  </tbody>\n",
       "</table>\n",
       "</div>"
      ],
      "text/plain": [
       "                 target  Prod. year  Engine volume   Mileage  Cylinders  \\\n",
       "target         1.000000    0.297918       0.060328 -0.084834  -0.008840   \n",
       "Prod. year     0.297918    1.000000      -0.087713 -0.219635  -0.144704   \n",
       "Engine volume  0.060328   -0.087713       1.000000  0.140727   0.725776   \n",
       "Mileage       -0.084834   -0.219635       0.140727  1.000000   0.108323   \n",
       "Cylinders     -0.008840   -0.144704       0.725776  0.108323   1.000000   \n",
       "Doors          0.051402    0.200028      -0.025348 -0.010174  -0.044223   \n",
       "Airbags       -0.032300    0.325979       0.242622 -0.040647   0.201051   \n",
       "Turbo          0.148318   -0.068776      -0.029249  0.034676   0.009412   \n",
       "\n",
       "                  Doors   Airbags     Turbo  \n",
       "target         0.051402 -0.032300  0.148318  \n",
       "Prod. year     0.200028  0.325979 -0.068776  \n",
       "Engine volume -0.025348  0.242622 -0.029249  \n",
       "Mileage       -0.010174 -0.040647  0.034676  \n",
       "Cylinders     -0.044223  0.201051  0.009412  \n",
       "Doors          1.000000  0.076988 -0.079971  \n",
       "Airbags        0.076988  1.000000  0.029879  \n",
       "Turbo         -0.079971  0.029879  1.000000  "
      ]
     },
     "execution_count": 61,
     "metadata": {},
     "output_type": "execute_result"
    }
   ],
   "source": [
    "# 3 Correlation matrix to see correlation to target variable, dropping columns with little to no correlation\n",
    "corr = df.corr()\n",
    "corr"
   ]
  },
  {
   "cell_type": "code",
   "execution_count": 62,
   "id": "625fc735",
   "metadata": {},
   "outputs": [
    {
     "data": {
      "image/png": "[encoded data removed]",
      "text/plain": [
       "<Figure size 432x288 with 1 Axes>"
      ]
     },
     "metadata": {
      "needs_background": "light"
     },
     "output_type": "display_data"
    }
   ],
   "source": [
    "# 3 Checking milage via scatterplot for further correlation (as it is a common thing to look for)\n",
    "dfcomparison = df.loc[:,['Mileage','target']]\n",
    "dfcomparison = dfcomparison.dropna()\n",
    "x = dfcomparison['Mileage']\n",
    "y = dfcomparison['target']\n",
    "plt.scatter(x, y,s=11.0)\n",
    "plt.subplots_adjust(right=2)\n",
    "plt.xlabel('Mileage')\n",
    "plt.ylabel('Target')\n",
    "plt.title('Mileage vs Target')\n",
    "plt.yticks(np.arange(0, 60000, 10000))\n",
    "plt.xticks(np.arange(0, 350000, 20000))\n",
    "plt.show()"
   ]
  },
  {
   "cell_type": "code",
   "execution_count": 63,
   "id": "1d8a8ceb",
   "metadata": {},
   "outputs": [],
   "source": [
    "# 3 Dropping column 'Mileage','Cylinders','Airbags','Doors','Engine volume' (seems non-correlated)\n",
    "df = df.drop(['Mileage','Cylinders','Airbags','Doors','Engine volume'],axis=1)"
   ]
  },
  {
   "cell_type": "code",
   "execution_count": 64,
   "id": "0d9e73b7",
   "metadata": {},
   "outputs": [
    {
     "data": {
      "image/png": "[encoded data removed]",
      "text/plain": [
       "<Figure size 1872x1152 with 6 Axes>"
      ]
     },
     "metadata": {
      "needs_background": "light"
     },
     "output_type": "display_data"
    }
   ],
   "source": [
    "# 3 Grouped boxplots (categorical)\n",
    "cat_list=df.select_dtypes(['object']).columns.to_list()\n",
    "fig=plt.figure(figsize=(26,16))\n",
    "for i in range(len(cat_list)):\n",
    "    column=cat_list[i]\n",
    "    sub=fig.add_subplot(4,2,i+1)\n",
    "    chart=sns.boxplot(x=column, y='target', data=df)"
   ]
  },
  {
   "cell_type": "code",
   "execution_count": 65,
   "id": "5c0ad373",
   "metadata": {},
   "outputs": [
    {
     "name": "stdout",
     "output_type": "stream",
     "text": [
      "['Category', 'Leather interior', 'Fuel type', 'Gear box type', 'Drive wheels', 'Wheel']\n",
      "[1.21319953 2.75543596 0.94286038 1.95981613 1.61347499 1.79557795]\n",
      "[0.        0.        0.9662016 0.        0.        0.       ]\n"
     ]
    }
   ],
   "source": [
    "# 3 ANOVA test (for categorical vs numerical target variables)\n",
    "x = dfcategoricalnumeric.loc[:, cat_list]\n",
    "y = dfcategoricalnumeric.loc[:, 'target']\n",
    "fs = SelectKBest(score_func=f_classif, k='all')\n",
    "bestFeatures = fs.fit(x, y)\n",
    "np.set_printoptions(suppress = True)\n",
    "print(cat_list)\n",
    "print(bestFeatures.scores_)\n",
    "print(bestFeatures.pvalues_)"
   ]
  },
  {
   "cell_type": "code",
   "execution_count": 67,
   "id": "3f3926f4",
   "metadata": {},
   "outputs": [],
   "source": [
    "# 3 Dropping features that have a p-value higher than 0.05.\n",
    "df = df.drop('Drive wheels', axis=1)"
   ]
  },
  {
   "cell_type": "code",
   "execution_count": 68,
   "id": "b9c4a7bf",
   "metadata": {},
   "outputs": [
    {
     "name": "stdout",
     "output_type": "stream",
     "text": [
      "<class 'pandas.core.frame.DataFrame'>\n",
      "Int64Index: 13486 entries, 0 to 19236\n",
      "Data columns (total 26 columns):\n",
      " #   Column            Non-Null Count  Dtype\n",
      "---  ------            --------------  -----\n",
      " 0   target            13486 non-null  int64\n",
      " 1   Prod. year        13486 non-null  int64\n",
      " 2   Leather interior  13486 non-null  int64\n",
      " 3   Turbo             13486 non-null  int64\n",
      " 4   CNG               13486 non-null  uint8\n",
      " 5   Diesel            13486 non-null  uint8\n",
      " 6   Hybrid            13486 non-null  uint8\n",
      " 7   LPG               13486 non-null  uint8\n",
      " 8   Petrol            13486 non-null  uint8\n",
      " 9   Automatic         13486 non-null  uint8\n",
      " 10  Manual            13486 non-null  uint8\n",
      " 11  Tiptronic         13486 non-null  uint8\n",
      " 12  Variator          13486 non-null  uint8\n",
      " 13  Left wheel        13486 non-null  uint8\n",
      " 14  Right-hand drive  13486 non-null  uint8\n",
      " 15  Cabriolet         13486 non-null  uint8\n",
      " 16  Coupe             13486 non-null  uint8\n",
      " 17  Goods wagon       13486 non-null  uint8\n",
      " 18  Hatchback         13486 non-null  uint8\n",
      " 19  Jeep              13486 non-null  uint8\n",
      " 20  Limousine         13486 non-null  uint8\n",
      " 21  Microbus          13486 non-null  uint8\n",
      " 22  Minivan           13486 non-null  uint8\n",
      " 23  Pickup            13486 non-null  uint8\n",
      " 24  Sedan             13486 non-null  uint8\n",
      " 25  Universal         13486 non-null  uint8\n",
      "dtypes: int64(4), uint8(22)\n",
      "memory usage: 1.3 MB\n",
      "None\n",
      "0    12009\n",
      "1     1477\n",
      "Name: Turbo, dtype: int64\n",
      "1    8618\n",
      "0    4868\n",
      "Name: Leather interior, dtype: int64\n"
     ]
    }
   ],
   "source": [
    "# 3 Changing categorical variables with more than two variables to dummies (also changing the ones that are two variables to numerical)\n",
    "df_dummy = pd.get_dummies(df['Fuel type'])\n",
    "df_dummy2 = pd.get_dummies(df['Gear box type'])\n",
    "df_dummy3 = pd.get_dummies(df['Wheel'])\n",
    "df_dummy4 = pd.get_dummies(df['Category'])\n",
    "column_name = df.columns.values.tolist()\n",
    "column_name.remove('Fuel type')\n",
    "column_name.remove('Gear box type')\n",
    "column_name.remove('Wheel')\n",
    "column_name.remove('Category')\n",
    "dfwithdummies = df[column_name].join(df_dummy)\n",
    "dfwithdummies = dfwithdummies.join(df_dummy2)\n",
    "dfwithdummies = dfwithdummies.join(df_dummy3)\n",
    "dfwithdummies = dfwithdummies.join(df_dummy4)\n",
    "dfwithdummies['Turbo'] = dfwithdummies['Turbo'].replace({True : 1, False : 0})\n",
    "dfwithdummies['Leather interior'] = dfwithdummies['Leather interior'].replace({'Yes' : 1, 'No' : 0})\n",
    "print(dfwithdummies.info())\n",
    "print(dfwithdummies['Turbo'].value_counts())\n",
    "print(dfwithdummies['Leather interior'].value_counts())"
   ]
  },
  {
   "cell_type": "code",
   "execution_count": 69,
   "id": "6b79c17e",
   "metadata": {},
   "outputs": [
    {
     "name": "stdout",
     "output_type": "stream",
     "text": [
      "0        0.876543\n",
      "1        0.888889\n",
      "2        0.827160\n",
      "3        0.888889\n",
      "4        0.925926\n",
      "           ...   \n",
      "19230    0.888889\n",
      "19232    0.740741\n",
      "19233    0.888889\n",
      "19234    0.876543\n",
      "19236    0.901235\n",
      "Name: Prod. year, Length: 13486, dtype: float64\n"
     ]
    }
   ],
   "source": [
    "# 3 Standardization or Normalization (Standardization due to year and target being differing ranges)\n",
    "scaler = MinMaxScaler()\n",
    "dfwithdummies['Prod. year'] = scaler.fit_transform(dfwithdummies['Prod. year'].array.reshape(-1, 1))\n",
    "print(dfwithdummies['Prod. year'])"
   ]
  },
  {
   "cell_type": "markdown",
   "id": "645ff636",
   "metadata": {},
   "source": [
    "# #3\n",
    "\n",
    "Correlation matrix - Showed that very little of the numeric values mattered to selling price, thus resulting in all being dropped except prod. year (at around 30%) and turbo (at around 16%).\n",
    "\n",
    "Graphs - Showed variance between most values except for drive wheel, having around the same boxplot for each class.\n",
    "\n",
    "ANOVA test - Showed significance for all features except drive wheels.\n",
    "\n",
    "Variables with zero to little variance - According to boxplot, drive wheels.\n",
    "\n",
    "Any features irrelevant to the target variable - Drive wheels.\n",
    "\n",
    "Any high correlated features - No.\n",
    "\n"
   ]
  },
  {
   "cell_type": "code",
   "execution_count": 70,
   "id": "cabea7df",
   "metadata": {},
   "outputs": [],
   "source": [
    "# 4 Does data need to be balanced? (no, target is numerical, no classes, therefore skipping step)"
   ]
  },
  {
   "cell_type": "code",
   "execution_count": 71,
   "id": "f26a11e8",
   "metadata": {},
   "outputs": [],
   "source": [
    "# 4 Splitting the dataset into training and testing data.\n",
    "column_name = dfwithdummies.columns.values.tolist()\n",
    "column_name.remove('target')\n",
    "y = dfwithdummies[['target']]\n",
    "x = dfwithdummies[column_name]\n",
    "y_train, y_test, x_train, x_test = train_test_split(y, x, test_size = 0.2, random_state=15)"
   ]
  },
  {
   "cell_type": "code",
   "execution_count": 72,
   "id": "a6d35fa8",
   "metadata": {},
   "outputs": [
    {
     "data": {
      "text/html": [
       "<style>#sk-container-id-1 {color: black;background-color: white;}#sk-container-id-1 pre{padding: 0;}#sk-container-id-1 div.sk-toggleable {background-color: white;}#sk-container-id-1 label.sk-toggleable__label {cursor: pointer;display: block;width: 100%;margin-bottom: 0;padding: 0.3em;box-sizing: border-box;text-align: center;}#sk-container-id-1 label.sk-toggleable__label-arrow:before {content: \"▸\";float: left;margin-right: 0.25em;color: #696969;}#sk-container-id-1 label.sk-toggleable__label-arrow:hover:before {color: black;}#sk-container-id-1 div.sk-estimator:hover label.sk-toggleable__label-arrow:before {color: black;}#sk-container-id-1 div.sk-toggleable__content {max-height: 0;max-width: 0;overflow: hidden;text-align: left;background-color: #f0f8ff;}#sk-container-id-1 div.sk-toggleable__content pre {margin: 0.2em;color: black;border-radius: 0.25em;background-color: #f0f8ff;}#sk-container-id-1 input.sk-toggleable__control:checked~div.sk-toggleable__content {max-height: 200px;max-width: 100%;overflow: auto;}#sk-container-id-1 input.sk-toggleable__control:checked~label.sk-toggleable__label-arrow:before {content: \"▾\";}#sk-container-id-1 div.sk-estimator input.sk-toggleable__control:checked~label.sk-toggleable__label {background-color: #d4ebff;}#sk-container-id-1 div.sk-label input.sk-toggleable__control:checked~label.sk-toggleable__label {background-color: #d4ebff;}#sk-container-id-1 input.sk-hidden--visually {border: 0;clip: rect(1px 1px 1px 1px);clip: rect(1px, 1px, 1px, 1px);height: 1px;margin: -1px;overflow: hidden;padding: 0;position: absolute;width: 1px;}#sk-container-id-1 div.sk-estimator {font-family: monospace;background-color: #f0f8ff;border: 1px dotted black;border-radius: 0.25em;box-sizing: border-box;margin-bottom: 0.5em;}#sk-container-id-1 div.sk-estimator:hover {background-color: #d4ebff;}#sk-container-id-1 div.sk-parallel-item::after {content: \"\";width: 100%;border-bottom: 1px solid gray;flex-grow: 1;}#sk-container-id-1 div.sk-label:hover label.sk-toggleable__label {background-color: #d4ebff;}#sk-container-id-1 div.sk-serial::before {content: \"\";position: absolute;border-left: 1px solid gray;box-sizing: border-box;top: 0;bottom: 0;left: 50%;z-index: 0;}#sk-container-id-1 div.sk-serial {display: flex;flex-direction: column;align-items: center;background-color: white;padding-right: 0.2em;padding-left: 0.2em;position: relative;}#sk-container-id-1 div.sk-item {position: relative;z-index: 1;}#sk-container-id-1 div.sk-parallel {display: flex;align-items: stretch;justify-content: center;background-color: white;position: relative;}#sk-container-id-1 div.sk-item::before, #sk-container-id-1 div.sk-parallel-item::before {content: \"\";position: absolute;border-left: 1px solid gray;box-sizing: border-box;top: 0;bottom: 0;left: 50%;z-index: -1;}#sk-container-id-1 div.sk-parallel-item {display: flex;flex-direction: column;z-index: 1;position: relative;background-color: white;}#sk-container-id-1 div.sk-parallel-item:first-child::after {align-self: flex-end;width: 50%;}#sk-container-id-1 div.sk-parallel-item:last-child::after {align-self: flex-start;width: 50%;}#sk-container-id-1 div.sk-parallel-item:only-child::after {width: 0;}#sk-container-id-1 div.sk-dashed-wrapped {border: 1px dashed gray;margin: 0 0.4em 0.5em 0.4em;box-sizing: border-box;padding-bottom: 0.4em;background-color: white;}#sk-container-id-1 div.sk-label label {font-family: monospace;font-weight: bold;display: inline-block;line-height: 1.2em;}#sk-container-id-1 div.sk-label-container {text-align: center;}#sk-container-id-1 div.sk-container {/* jupyter's `normalize.less` sets `[hidden] { display: none; }` but bootstrap.min.css set `[hidden] { display: none !important; }` so we also need the `!important` here to be able to override the default hidden behavior on the sphinx rendered scikit-learn.org. See: https://github.com/scikit-learn/scikit-learn/issues/21755 */display: inline-block !important;position: relative;}#sk-container-id-1 div.sk-text-repr-fallback {display: none;}</style><div id=\"sk-container-id-1\" class=\"sk-top-container\"><div class=\"sk-text-repr-fallback\"><pre>LinearRegression()</pre><b>In a Jupyter environment, please rerun this cell to show the HTML representation or trust the notebook. <br />On GitHub, the HTML representation is unable to render, please try loading this page with nbviewer.org.</b></div><div class=\"sk-container\" hidden><div class=\"sk-item\"><div class=\"sk-estimator sk-toggleable\"><input class=\"sk-toggleable__control sk-hidden--visually\" id=\"sk-estimator-id-1\" type=\"checkbox\" checked><label for=\"sk-estimator-id-1\" class=\"sk-toggleable__label sk-toggleable__label-arrow\">LinearRegression</label><div class=\"sk-toggleable__content\"><pre>LinearRegression()</pre></div></div></div></div></div>"
      ],
      "text/plain": [
       "LinearRegression()"
      ]
     },
     "execution_count": 72,
     "metadata": {},
     "output_type": "execute_result"
    }
   ],
   "source": [
    "# 4 Building prediction model\n",
    "model = LinearRegression()\n",
    "model.fit(x_train,y_train)"
   ]
  },
  {
   "cell_type": "code",
   "execution_count": 73,
   "id": "d7be8403",
   "metadata": {},
   "outputs": [
    {
     "name": "stdout",
     "output_type": "stream",
     "text": [
      "R-squared score from test data on linear regression model from training data: 0.278999346378378\n",
      "\n",
      "Intercept, Coefficients\n",
      "[-19540.49471613]\n",
      "[[40779.20073085 -1024.82441988  2107.827089   -1453.20249329\n",
      "   3970.66781382 -1170.8575328    148.32687701 -1494.93466474\n",
      "  -2447.43201191 -2190.55489476  3524.43462932  1113.55227736\n",
      "   1769.67054369 -1769.67054369   -59.4055557   -708.72208438\n",
      "  -6267.7475278  -2654.48093831    26.44016926 12916.97133723\n",
      "  -1760.63251069  1379.55177937   477.37751815 -2820.68180369\n",
      "   -528.67038343]]\n",
      "\n",
      "Mean Squared Error: 66186230.055041656\n"
     ]
    }
   ],
   "source": [
    "# 4 Metrics to evaluate prediction model\n",
    "print(\"R-squared score from test data on linear regression model from training data:\", \n",
    "      model.score(x_test, y_test))\n",
    "print(\"\\nIntercept, Coefficients\")\n",
    "print(model.intercept_)\n",
    "print(model.coef_)\n",
    "\n",
    "y_2 = model.predict(x)\n",
    "dfwithdummies['y_predicted'] = y_2\n",
    "mse = mean_squared_error(dfwithdummies['target'], dfwithdummies['y_predicted'])\n",
    "print(\"\\nMean Squared Error:\",mse)"
   ]
  },
  {
   "cell_type": "code",
   "execution_count": 74,
   "id": "0e2054c9",
   "metadata": {},
   "outputs": [
    {
     "name": "stdout",
     "output_type": "stream",
     "text": [
      "R-squared score\n",
      " [0.22273989 0.21977459 0.23787405 0.24847147 0.27536535 0.22423903\n",
      " 0.25248235 0.27482388 0.28057899 0.20604299]\n",
      "\n",
      "Mean scored error\n",
      " [69924554.30120482 68847428.9945514  68627910.90917516 64673387.39772388\n",
      " 62516773.21198707 63769238.15124048 67972086.68542966 64054102.62557924\n",
      " 66265580.76357129 70162344.56515436]\n"
     ]
    }
   ],
   "source": [
    "# 4 Cross validating data.\n",
    "scores = cross_val_score(model, x_train, y_train, scoring='r2', cv=10)\n",
    "print(\"R-squared score\\n\",scores)\n",
    "scores = cross_val_score(model, x_train, y_train, scoring='neg_mean_squared_error', cv=10)\n",
    "print(\"\\nMean scored error\\n\",scores*-1)"
   ]
  },
  {
   "cell_type": "markdown",
   "id": "bd0fa354",
   "metadata": {},
   "source": [
    "# #4 Conclusion\n",
    "To conclude this project, the reason why I utilized multiple linear regression is because it fits the prediction goal I had in mind. It's a useful model for predicting numerical targets, and it allows for multiple variables to have an impact on that prediction. \n",
    "\n",
    "The prediction turned out to have an accuracy of around 24%, and had a mean-squared error of over 66 million, indicating that the model likely failed in its purpose. \n",
    "\n",
    "Reasons for that may be due to lackluster cleaning, poor feature selection, the wrong prediction model, or a lack of data within the dataset that has significant predicting power for price. \n",
    "\n",
    "Overall, the price could not be predicted accurately, and the factors at the end may or may not have a significant impact."
   ]
  },
  {
   "cell_type": "code",
   "execution_count": null,
   "id": "8bac202c",
   "metadata": {},
   "outputs": [],
   "source": []
  }
 ],
 "metadata": {
  "kernelspec": {
   "display_name": "Python 3 (ipykernel)",
   "language": "python",
   "name": "python3"
  },
  "language_info": {
   "codemirror_mode": {
    "name": "ipython",
    "version": 3
   },
   "file_extension": ".py",
   "mimetype": "text/x-python",
   "name": "python",
   "nbconvert_exporter": "python",
   "pygments_lexer": "ipython3",
   "version": "3.9.12"
  }
 },
 "nbformat": 4,
 "nbformat_minor": 5
}
